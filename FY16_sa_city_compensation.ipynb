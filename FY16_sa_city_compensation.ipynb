{
 "cells": [
  {
   "cell_type": "markdown",
   "metadata": {},
   "source": [
    "## San Antonio City Salary Data\n",
    "\n",
    "Data set by Annie Millrbernd\n",
    "https://data.world/amillerbernd/san-antonio-city-salary-data\n",
    "\n",
    "**DESCRIPTION**\n",
    "Compensation of San Antonio City Employees, 2012-2016. All data provided by the City of San Antonio.\n",
    "SUMMARY\n",
    "About this Dataset\n",
    "\n",
    "Included in these data are all the earnings and some demographic information about city employees.\n",
    "\n",
    "**Objectives**\n",
    "\n",
    "Collection, retention, annual presentation\n",
    "\n",
    "**Background**\n",
    "\n",
    "1Hire Date reflects the most recent date of hire with the City in the event the employee left employment and was rehired or was a temporary employee and became a full time permanent employee.\t\n",
    "2Annual Salary reflects what the employee's current base salary would be for a year based on the position held at September 30, 2016.\t\n",
    "3Base Pay reflects the regular salary the employee actually earned during the fiscal year regardless of position held. It is possible with position changes, length of time with the City, etc. that an employee's Base Pay will not equal their Annual Salary.\t\n",
    "4Leave Payout reflects leave the employee sold back to the City during the fiscal year. For full-time employees who separated during the fiscal year this may also include accrued leave sold back to the City upon separation.\t\n",
    "5Other reflects various incentives paid to City employees based on their job position and education level. Incentives include but are not limited to education pay; language skill pay; certification pay; car allowance; transportation allowance; cell phone reimbursement; clothing allowance; and shift differential.\t\n",
    "6City policy allows employees to bank overtime hours for future compensated absences.\t\n",
    "7 Gross Earnings reflect the total pay employees received between October 1st and September 30th. \n",
    "8Additional Benefits are incremental costs incurred by the City of behalf of employees to include the employer's share of FICA/Medicare, TMRS [Pension], annual Health Assessment [average healthcare benefit costs] and other related fringe provided to employees.\t\n",
    "9Total Compensation reflects the total cost the City incurred for the employee's services received between October 1st and September 30th.\t\n",
    "10Federal law requires the City of San Antonio to keep records of its employees' race/ethnicity and sex and to report this information to the Equal Employment Opportunity Commission (EEOC). The EEOC identifies the acceptable methods for a city or state to acquire this information. The City follows EEOC \n",
    "requirements by obtaining the race/ethnicity information from employees through voluntary reporting (self identification) or from visual surveys of its workforce. Therefore, the City cannot guarantee the complete accuracy of this information."
   ]
  },
  {
   "cell_type": "markdown",
   "metadata": {},
   "source": [
    "## Key questions: \n",
    "\n",
    "### 1. Are there any trends in pay based on gender\n",
    "### 2. Are there any trends in pay based on race\n",
    "### 3. What is the biggest city department (based on number of employees)\n",
    "### 4. What is the most high paying-department (based on total salary)"
   ]
  },
  {
   "cell_type": "code",
   "execution_count": 15,
   "metadata": {},
   "outputs": [
    {
     "data": {
      "text/plain": [
       "datetime.datetime(2016, 12, 31, 0, 0)"
      ]
     },
     "execution_count": 15,
     "metadata": {},
     "output_type": "execute_result"
    }
   ],
   "source": [
    "import pandas as pd\n",
    "import numpy as np\n",
    "import matplotlib.pyplot as plt\n",
    "%matplotlib inline\n",
    "import seaborn as sns\n",
    "import math\n",
    "from datetime import datetime, timedelta\n",
    "\n",
    "# Function to comvert the \"HIRE DATE1\" column into usable date format\n",
    "def from_excel_ordinal(ordinal, epoch=datetime(1900, 1, 1)):\n",
    "    # Adapted from above, thanks to @Martijn Pieters \n",
    "\n",
    "    if ordinal > 59:\n",
    "        ordinal -= 1  # Excel leap year bug, 1900 is not a leap year!\n",
    "    inDays = int(ordinal)\n",
    "    frac = ordinal - inDays\n",
    "    inSecs = int(round(frac * 86400.0))\n",
    "\n",
    "    return epoch + timedelta(days=inDays - 1, seconds=inSecs) # epoch is day 1\n",
    "\n",
    "last_date = \"2016-12-31\"\n",
    "\n",
    "datetime.strptime(last_date, '%Y-%m-%d')"
   ]
  },
  {
   "cell_type": "code",
   "execution_count": 2,
   "metadata": {},
   "outputs": [],
   "source": [
    "city_data = pd.read_excel(\"FY16 SA City Compensation.xlsx\")\n",
    "city_data[\"HIRE DATE1\"] = city_data[\"HIRE DATE1\"].apply(from_excel_ordinal)"
   ]
  },
  {
   "cell_type": "code",
   "execution_count": 3,
   "metadata": {
    "scrolled": false
   },
   "outputs": [
    {
     "name": "stdout",
     "output_type": "stream",
     "text": [
      "<class 'pandas.core.frame.DataFrame'>\n",
      "RangeIndex: 11923 entries, 0 to 11922\n",
      "Data columns (total 18 columns):\n",
      "REF #                        11923 non-null int64\n",
      "FIRST NAME                   11923 non-null object\n",
      "MIDDLE NAME                  6261 non-null object\n",
      "LAST NAME                    11923 non-null object\n",
      "HIRE DATE1                   11923 non-null datetime64[ns]\n",
      "FY16 ANNUAL SALARY2          11923 non-null float64\n",
      "FY16 BASE PAY3               11923 non-null float64\n",
      "FY16 LEAVE PAYOUT4           11923 non-null float64\n",
      "FY16 OTHER5                  11923 non-null float64\n",
      "FY16 OVERTIME6               11923 non-null float64\n",
      "FY16 GROSS EARNINGS7         11923 non-null float64\n",
      "FY16 ADDITIONAL BENEFITS8    11923 non-null float64\n",
      "FY16 TOTAL COMPENSATION9     11923 non-null float64\n",
      "JOB TITLE                    11923 non-null object\n",
      "BUSINESS AREA                11923 non-null object\n",
      "GENDER                       11923 non-null object\n",
      "ETHNIC ORIGIN10              11923 non-null object\n",
      "EMPLOYEE SUBGROUP            11923 non-null object\n",
      "dtypes: datetime64[ns](1), float64(8), int64(1), object(8)\n",
      "memory usage: 1.6+ MB\n"
     ]
    }
   ],
   "source": [
    "city_data.info()"
   ]
  },
  {
   "cell_type": "code",
   "execution_count": 37,
   "metadata": {
    "scrolled": true
   },
   "outputs": [],
   "source": [
    "city_data = city_data.assign(length_time = datetime.strptime(last_date, '%Y-%m-%d') - city_data[\"HIRE DATE1\"])"
   ]
  },
  {
   "cell_type": "code",
   "execution_count": 18,
   "metadata": {},
   "outputs": [
    {
     "data": {
      "text/plain": [
       "11.148757332457203"
      ]
     },
     "execution_count": 18,
     "metadata": {},
     "output_type": "execute_result"
    }
   ],
   "source": [
    "(datetime.strptime(last_date, '%Y-%m-%d') - city_data[\"HIRE DATE1\"][0])/np.timedelta64(1, 'Y')"
   ]
  },
  {
   "cell_type": "code",
   "execution_count": 38,
   "metadata": {},
   "outputs": [
    {
     "data": {
      "text/html": [
       "<div>\n",
       "<style scoped>\n",
       "    .dataframe tbody tr th:only-of-type {\n",
       "        vertical-align: middle;\n",
       "    }\n",
       "\n",
       "    .dataframe tbody tr th {\n",
       "        vertical-align: top;\n",
       "    }\n",
       "\n",
       "    .dataframe thead th {\n",
       "        text-align: right;\n",
       "    }\n",
       "</style>\n",
       "<table border=\"1\" class=\"dataframe\">\n",
       "  <thead>\n",
       "    <tr style=\"text-align: right;\">\n",
       "      <th></th>\n",
       "      <th>REF #</th>\n",
       "      <th>FIRST NAME</th>\n",
       "      <th>MIDDLE NAME</th>\n",
       "      <th>LAST NAME</th>\n",
       "      <th>HIRE DATE1</th>\n",
       "      <th>FY16 ANNUAL SALARY2</th>\n",
       "      <th>FY16 BASE PAY3</th>\n",
       "      <th>FY16 LEAVE PAYOUT4</th>\n",
       "      <th>FY16 OTHER5</th>\n",
       "      <th>FY16 OVERTIME6</th>\n",
       "      <th>FY16 GROSS EARNINGS7</th>\n",
       "      <th>FY16 ADDITIONAL BENEFITS8</th>\n",
       "      <th>FY16 TOTAL COMPENSATION9</th>\n",
       "      <th>JOB TITLE</th>\n",
       "      <th>BUSINESS AREA</th>\n",
       "      <th>GENDER</th>\n",
       "      <th>ETHNIC ORIGIN10</th>\n",
       "      <th>EMPLOYEE SUBGROUP</th>\n",
       "      <th>length_time</th>\n",
       "    </tr>\n",
       "  </thead>\n",
       "  <tbody>\n",
       "    <tr>\n",
       "      <td>0</td>\n",
       "      <td>1</td>\n",
       "      <td>SHERYL</td>\n",
       "      <td>L.</td>\n",
       "      <td>SCULLEY</td>\n",
       "      <td>2005-11-07</td>\n",
       "      <td>425000.0</td>\n",
       "      <td>414615.38</td>\n",
       "      <td>0.0</td>\n",
       "      <td>97354.89</td>\n",
       "      <td>0.0</td>\n",
       "      <td>511970.27</td>\n",
       "      <td>75379.48</td>\n",
       "      <td>587349.75</td>\n",
       "      <td>1022-CITY MANAGER</td>\n",
       "      <td>CITY MANAGER'S OFFICE</td>\n",
       "      <td>FEMALE</td>\n",
       "      <td>WHITE</td>\n",
       "      <td>2A CITY MGR FT</td>\n",
       "      <td>4072 days</td>\n",
       "    </tr>\n",
       "  </tbody>\n",
       "</table>\n",
       "</div>"
      ],
      "text/plain": [
       "   REF # FIRST NAME MIDDLE NAME LAST NAME HIRE DATE1  FY16 ANNUAL SALARY2  \\\n",
       "0      1     SHERYL          L.   SCULLEY 2005-11-07             425000.0   \n",
       "\n",
       "   FY16 BASE PAY3  FY16 LEAVE PAYOUT4  FY16 OTHER5  FY16 OVERTIME6  \\\n",
       "0       414615.38                 0.0     97354.89             0.0   \n",
       "\n",
       "   FY16 GROSS EARNINGS7  FY16 ADDITIONAL BENEFITS8  FY16 TOTAL COMPENSATION9  \\\n",
       "0             511970.27                   75379.48                 587349.75   \n",
       "\n",
       "           JOB TITLE          BUSINESS AREA  GENDER ETHNIC ORIGIN10  \\\n",
       "0  1022-CITY MANAGER  CITY MANAGER'S OFFICE  FEMALE           WHITE   \n",
       "\n",
       "  EMPLOYEE SUBGROUP length_time  \n",
       "0    2A CITY MGR FT   4072 days  "
      ]
     },
     "execution_count": 38,
     "metadata": {},
     "output_type": "execute_result"
    }
   ],
   "source": [
    "city_data.head(1)"
   ]
  },
  {
   "cell_type": "markdown",
   "metadata": {},
   "source": [
    "### Q1: Are there any trends in pay based on gender"
   ]
  },
  {
   "cell_type": "code",
   "execution_count": null,
   "metadata": {},
   "outputs": [],
   "source": [
    "city_data.groupby(\"GENDER\")[\"FY16 TOTAL COMPENSATION9\"].count()"
   ]
  },
  {
   "cell_type": "code",
   "execution_count": null,
   "metadata": {
    "scrolled": true
   },
   "outputs": [],
   "source": [
    "city_data.groupby(\"GENDER\")[\"FY16 TOTAL COMPENSATION9\"].mean().round(0)"
   ]
  },
  {
   "cell_type": "code",
   "execution_count": null,
   "metadata": {},
   "outputs": [],
   "source": [
    "female_mean = round(city_data[city_data.GENDER == \"FEMALE\"][\"FY16 TOTAL COMPENSATION9\"].mean(), 1)\n",
    "male_mean = round(city_data[city_data.GENDER == \"MALE\"][\"FY16 TOTAL COMPENSATION9\"].mean(), 1)"
   ]
  },
  {
   "cell_type": "code",
   "execution_count": null,
   "metadata": {
    "scrolled": true
   },
   "outputs": [],
   "source": [
    "sns.barplot(x=\"GENDER\", y=\"FY16 TOTAL COMPENSATION9\", data=city_data)\n",
    "plt.title(\"Mean Income by Gender\")\n",
    "plt.text(\n",
    "    0,\n",
    "    40000,\n",
    "    f'${female_mean}',\n",
    "    ha='center',\n",
    "    va='center',\n",
    "    color='white'\n",
    ")\n",
    "plt.text(\n",
    "    1,\n",
    "    80000,\n",
    "    f'${male_mean}',\n",
    "    ha='center',\n",
    "    va='center',\n",
    "    color='white'\n",
    "       )\n",
    "plt.text(\n",
    "    -.2,\n",
    "    80000,\n",
    "    f'Difference of ${male_mean - female_mean}',\n",
    "    color='black'\n",
    ")"
   ]
  },
  {
   "cell_type": "markdown",
   "metadata": {},
   "source": [
    "### 2. Are there any trends in pay based on race"
   ]
  },
  {
   "cell_type": "code",
   "execution_count": null,
   "metadata": {},
   "outputs": [],
   "source": [
    "ethnic_columns = city_data[[\"ETHNIC ORIGIN10\", \"FY16 TOTAL COMPENSATION9\"]]"
   ]
  },
  {
   "cell_type": "code",
   "execution_count": null,
   "metadata": {},
   "outputs": [],
   "source": [
    "plt.figure(figsize=(19,6))\n",
    "sns.countplot(x=\"ETHNIC ORIGIN10\", data=city_data, orient='v')\n",
    "plt.xticks(rotation=40, ha=\"right\")\n",
    "plt.title(\"Count of individuals by race\")"
   ]
  },
  {
   "cell_type": "code",
   "execution_count": null,
   "metadata": {},
   "outputs": [],
   "source": [
    "plt.figure(figsize=(16,9))\n",
    "sns.barplot(data=city_data, x=\"ETHNIC ORIGIN10\", y=\"FY16 TOTAL COMPENSATION9\")\n",
    "plt.xticks(rotation = 40, fontsize=6, ha=\"right\")\n",
    "plt.title(\"Mean salary by race\")\n",
    "plt.ylabel(\"Mean Compensation\")"
   ]
  },
  {
   "cell_type": "code",
   "execution_count": null,
   "metadata": {},
   "outputs": [],
   "source": [
    "plt.figure(figsize=(16,9))\n",
    "sns.boxplot(data=city_data, x=\"ETHNIC ORIGIN10\", y=\"FY16 TOTAL COMPENSATION9\")\n",
    "plt.xticks(rotation = 40, fontsize=6, ha=\"right\")\n",
    "plt.title(\"Mean salary by race\")\n",
    "plt.ylabel(\"Mean Compensation\")"
   ]
  },
  {
   "cell_type": "markdown",
   "metadata": {},
   "source": [
    "### 3. What is the biggest city department (based on number of employees)"
   ]
  },
  {
   "cell_type": "code",
   "execution_count": null,
   "metadata": {},
   "outputs": [],
   "source": [
    "city_data.groupby(\"BUSINESS AREA\")[\"REF #\"].count().sort_values(ascending = False)"
   ]
  },
  {
   "cell_type": "code",
   "execution_count": null,
   "metadata": {
    "scrolled": true
   },
   "outputs": [],
   "source": [
    "plt.figure(figsize=(16,9))\n",
    "sns.countplot(data=city_data, x=\"BUSINESS AREA\")\n",
    "plt.xticks(rotation=45, fontsize=6, ha=\"right\" )"
   ]
  },
  {
   "cell_type": "code",
   "execution_count": null,
   "metadata": {},
   "outputs": [],
   "source": [
    "count_emp = city_data.groupby(\"BUSINESS AREA\")[\"BUSINESS AREA\",\"REF #\"].count().sort_values(by=\"REF #\", ascending=False).head(5)"
   ]
  },
  {
   "cell_type": "code",
   "execution_count": null,
   "metadata": {
    "scrolled": true
   },
   "outputs": [],
   "source": [
    "count_emp"
   ]
  },
  {
   "cell_type": "code",
   "execution_count": null,
   "metadata": {},
   "outputs": [],
   "source": [
    "sns.barplot(data=count_emp, x=\"BUSINESS AREA\", y=count_emp.index)\n",
    "plt.title(\"Number of Employees in the 5 biggest departments\")\n",
    "plt.xlabel(\"Number of employees\")\n",
    "# plt.text(\n",
    "#     0,\n",
    "#     1000,\n",
    "#     \"Police\",\n",
    "#     rotation = 90,\n",
    "#     color='white',\n",
    "#     fontsize = 15\n",
    "# )\n",
    "# plt.text(\n",
    "#     1,\n",
    "#     1000,\n",
    "#     \"Fire\",\n",
    "#     rotation = 90,\n",
    "#     color='white',\n",
    "#     fontsize = 15\n",
    "# )\n",
    "# plt.text(\n",
    "#     2,\n",
    "#     1000,\n",
    "#     \"Human Resources\",\n",
    "#     rotation = 90,\n",
    "#     color='black',\n",
    "#     fontsize = 14\n",
    "    \n",
    "# )\n",
    "# plt.text(\n",
    "#     3,\n",
    "#     1000,\n",
    "#     \"Transportation\",\n",
    "#     rotation = 90,\n",
    "#     color='black',\n",
    "#     fontsize = 13\n",
    "    \n",
    "# )\n",
    "# plt.text(\n",
    "#     4,\n",
    "#     1000,\n",
    "#     \"Parks and Rec\",\n",
    "#     rotation = 90,\n",
    "#     color='black',\n",
    "#     fontsize = 13\n",
    "    \n",
    "# )"
   ]
  },
  {
   "cell_type": "markdown",
   "metadata": {},
   "source": [
    "### 4. What is the most high paying-department (based on total salary)"
   ]
  },
  {
   "cell_type": "code",
   "execution_count": null,
   "metadata": {},
   "outputs": [],
   "source": [
    "city_data.groupby(\"BUSINESS AREA\")[\"FY16 TOTAL COMPENSATION9\"].sum().round(1).sort_values(ascending=False).head(5)"
   ]
  },
  {
   "cell_type": "code",
   "execution_count": null,
   "metadata": {
    "scrolled": true
   },
   "outputs": [],
   "source": [
    "plt.figure(figsize=(16,9))\n",
    "plt.xticks(rotation=45, fontsize=6)\n",
    "sns.barplot(data=city_data, y=\"BUSINESS AREA\", x=\"FY16 TOTAL COMPENSATION9\", estimator=sum)\n",
    "plt.title(\"Total (sum) compensation by Business Area\")\n"
   ]
  },
  {
   "cell_type": "code",
   "execution_count": null,
   "metadata": {},
   "outputs": [],
   "source": [
    "plt.figure(figsize=(16,9))\n",
    "sns.barplot(data=city_data, y=\"BUSINESS AREA\", x= \"FY16 TOTAL COMPENSATION9\")\n",
    "plt.xticks(rotation=45, fontsize=10)\n",
    "plt.title(\"Mean compensation by Business Area\")"
   ]
  },
  {
   "cell_type": "markdown",
   "metadata": {},
   "source": [
    "### Top 5 for question 4"
   ]
  },
  {
   "cell_type": "code",
   "execution_count": null,
   "metadata": {},
   "outputs": [],
   "source": [
    "count = city_data.groupby(\"BUSINESS AREA\")[\"BUSINESS AREA\", \"FY16 TOTAL COMPENSATION9\"].sum().sort_values(by=\"FY16 TOTAL COMPENSATION9\", ascending=False).head(5)\n",
    "mean_data = city_data.groupby(\"BUSINESS AREA\")[\"BUSINESS AREA\", \"FY16 TOTAL COMPENSATION9\"].mean().sort_values(by=\"FY16 TOTAL COMPENSATION9\", ascending=False).head(5)"
   ]
  },
  {
   "cell_type": "code",
   "execution_count": null,
   "metadata": {
    "scrolled": true
   },
   "outputs": [],
   "source": [
    "plt.figure(figsize=(12,10))\n",
    "plt.suptitle(\"Compensation by Business Area\")\n",
    "\n",
    "plt.subplot(221)\n",
    "sns.barplot(data=mean_data, x=mean_data.index, y=\"FY16 TOTAL COMPENSATION9\")\n",
    "plt.xticks(rotation=45, fontsize=10, ha=\"right\")\n",
    "plt.title(\"Mean compensation for top 5 business areas\")\n",
    "# plt.yscale(\"log\")\n",
    "\n",
    "plt.subplot(222)\n",
    "sns.barplot(data=count, x=count.index, y=\"FY16 TOTAL COMPENSATION9\")\n",
    "plt.xticks(rotation=45, fontsize=10, ha=\"right\")\n",
    "plt.title(\"Total compensation in top 5 business areas\")\n",
    "\n",
    "\n",
    "plt.subplots_adjust(hspace=0.4)"
   ]
  },
  {
   "cell_type": "markdown",
   "metadata": {},
   "source": [
    "# Future Questions\n",
    "\n",
    "* How has compensation changed over time (different data sets going all the way back to 2012? But separate sheets so would need to figure out a way to join them. \n",
    "\n",
    "* Compare the pay for gender based on matching positions. \n",
    "\n",
    "* Which department had the most overtime / which one had the most leave payout. \n",
    "\n",
    "* Are there any trends or correlation as to which departments have the best base salaries, versus which have higher bonuses or other forms of rewards. "
   ]
  },
  {
   "cell_type": "markdown",
   "metadata": {},
   "source": [
    "# Potential Fixes\n",
    "\n",
    "- Add the x ticks inside the bars to make them a little bit easier to see"
   ]
  },
  {
   "cell_type": "code",
   "execution_count": 174,
   "metadata": {},
   "outputs": [],
   "source": [
    "jobs = city_data.pivot_table('FY16 TOTAL COMPENSATION9', [\"BUSINESS AREA\", \"JOB TITLE\"], \"GENDER\", aggfunc='sum')"
   ]
  },
  {
   "cell_type": "code",
   "execution_count": 175,
   "metadata": {},
   "outputs": [],
   "source": [
    "jobs = jobs.dropna()"
   ]
  },
  {
   "cell_type": "code",
   "execution_count": 176,
   "metadata": {},
   "outputs": [
    {
     "data": {
      "text/html": [
       "<div>\n",
       "<style scoped>\n",
       "    .dataframe tbody tr th:only-of-type {\n",
       "        vertical-align: middle;\n",
       "    }\n",
       "\n",
       "    .dataframe tbody tr th {\n",
       "        vertical-align: top;\n",
       "    }\n",
       "\n",
       "    .dataframe thead th {\n",
       "        text-align: right;\n",
       "    }\n",
       "</style>\n",
       "<table border=\"1\" class=\"dataframe\">\n",
       "  <thead>\n",
       "    <tr style=\"text-align: right;\">\n",
       "      <th></th>\n",
       "      <th>GENDER</th>\n",
       "      <th>FEMALE</th>\n",
       "      <th>MALE</th>\n",
       "    </tr>\n",
       "    <tr>\n",
       "      <th>BUSINESS AREA</th>\n",
       "      <th>JOB TITLE</th>\n",
       "      <th></th>\n",
       "      <th></th>\n",
       "    </tr>\n",
       "  </thead>\n",
       "  <tbody>\n",
       "    <tr>\n",
       "      <td rowspan=\"5\" valign=\"top\">ANIMAL CARE SERVICES</td>\n",
       "      <td>0209-VETERINARY TECHNICIAN</td>\n",
       "      <td>241767.278309</td>\n",
       "      <td>2.081221e+05</td>\n",
       "    </tr>\n",
       "    <tr>\n",
       "      <td>0213-VETERINARIAN</td>\n",
       "      <td>121717.860328</td>\n",
       "      <td>1.310433e+05</td>\n",
       "    </tr>\n",
       "    <tr>\n",
       "      <td>0221-ANIMAL CARE SUPERVISOR</td>\n",
       "      <td>186056.089554</td>\n",
       "      <td>4.231328e+05</td>\n",
       "    </tr>\n",
       "    <tr>\n",
       "      <td>0223-ANIMAL CARE OFFICER</td>\n",
       "      <td>654943.121557</td>\n",
       "      <td>6.402501e+05</td>\n",
       "    </tr>\n",
       "    <tr>\n",
       "      <td>0226-ANIMAL CARE ATTENDANT</td>\n",
       "      <td>295828.509302</td>\n",
       "      <td>4.483207e+05</td>\n",
       "    </tr>\n",
       "    <tr>\n",
       "      <td>...</td>\n",
       "      <td>...</td>\n",
       "      <td>...</td>\n",
       "      <td>...</td>\n",
       "    </tr>\n",
       "    <tr>\n",
       "      <td rowspan=\"5\" valign=\"top\">TRANSPORTATION &amp; CAPITAL IMPROV</td>\n",
       "      <td>7250-TCI OPERATIONS SUPERINTENDENT</td>\n",
       "      <td>104865.738707</td>\n",
       "      <td>7.476607e+05</td>\n",
       "    </tr>\n",
       "    <tr>\n",
       "      <td>7275-UTILITY COORDINATOR</td>\n",
       "      <td>68366.278755</td>\n",
       "      <td>5.363687e+04</td>\n",
       "    </tr>\n",
       "    <tr>\n",
       "      <td>7420-SENIOR EQUIPMENT OPERATOR</td>\n",
       "      <td>61585.962578</td>\n",
       "      <td>5.826190e+06</td>\n",
       "    </tr>\n",
       "    <tr>\n",
       "      <td>7579-MAINTENANCE WORKER</td>\n",
       "      <td>179578.007779</td>\n",
       "      <td>4.184276e+06</td>\n",
       "    </tr>\n",
       "    <tr>\n",
       "      <td>7790-FLEET MAINTENANCE TECHNICIAN II</td>\n",
       "      <td>40556.057489</td>\n",
       "      <td>3.327953e+04</td>\n",
       "    </tr>\n",
       "  </tbody>\n",
       "</table>\n",
       "<p>441 rows × 2 columns</p>\n",
       "</div>"
      ],
      "text/plain": [
       "GENDER                                                                       FEMALE  \\\n",
       "BUSINESS AREA                   JOB TITLE                                             \n",
       "ANIMAL CARE SERVICES            0209-VETERINARY TECHNICIAN            241767.278309   \n",
       "                                0213-VETERINARIAN                     121717.860328   \n",
       "                                0221-ANIMAL CARE SUPERVISOR           186056.089554   \n",
       "                                0223-ANIMAL CARE OFFICER              654943.121557   \n",
       "                                0226-ANIMAL CARE ATTENDANT            295828.509302   \n",
       "...                                                                             ...   \n",
       "TRANSPORTATION & CAPITAL IMPROV 7250-TCI OPERATIONS SUPERINTENDENT    104865.738707   \n",
       "                                7275-UTILITY COORDINATOR               68366.278755   \n",
       "                                7420-SENIOR EQUIPMENT OPERATOR         61585.962578   \n",
       "                                7579-MAINTENANCE WORKER               179578.007779   \n",
       "                                7790-FLEET MAINTENANCE TECHNICIAN II   40556.057489   \n",
       "\n",
       "GENDER                                                                        MALE  \n",
       "BUSINESS AREA                   JOB TITLE                                           \n",
       "ANIMAL CARE SERVICES            0209-VETERINARY TECHNICIAN            2.081221e+05  \n",
       "                                0213-VETERINARIAN                     1.310433e+05  \n",
       "                                0221-ANIMAL CARE SUPERVISOR           4.231328e+05  \n",
       "                                0223-ANIMAL CARE OFFICER              6.402501e+05  \n",
       "                                0226-ANIMAL CARE ATTENDANT            4.483207e+05  \n",
       "...                                                                            ...  \n",
       "TRANSPORTATION & CAPITAL IMPROV 7250-TCI OPERATIONS SUPERINTENDENT    7.476607e+05  \n",
       "                                7275-UTILITY COORDINATOR              5.363687e+04  \n",
       "                                7420-SENIOR EQUIPMENT OPERATOR        5.826190e+06  \n",
       "                                7579-MAINTENANCE WORKER               4.184276e+06  \n",
       "                                7790-FLEET MAINTENANCE TECHNICIAN II  3.327953e+04  \n",
       "\n",
       "[441 rows x 2 columns]"
      ]
     },
     "execution_count": 176,
     "metadata": {},
     "output_type": "execute_result"
    }
   ],
   "source": [
    "jobs"
   ]
  },
  {
   "cell_type": "code",
   "execution_count": 177,
   "metadata": {},
   "outputs": [],
   "source": [
    "total_avg = jobs.mean()"
   ]
  },
  {
   "cell_type": "code",
   "execution_count": 178,
   "metadata": {},
   "outputs": [
    {
     "data": {
      "text/plain": [
       "GENDER\n",
       "FEMALE    3.829613e+05\n",
       "MALE      1.469320e+06\n",
       "dtype: float64"
      ]
     },
     "execution_count": 178,
     "metadata": {},
     "output_type": "execute_result"
    }
   ],
   "source": [
    "total_avg"
   ]
  },
  {
   "cell_type": "code",
   "execution_count": 179,
   "metadata": {},
   "outputs": [],
   "source": [
    "mean = jobs.groupby(\"BUSINESS AREA\").mean()\n",
    "\n",
    "mean = mean.assign(DIFF = mean[\"MALE\"] - mean[\"FEMALE\"]).sort_values(by=\"DIFF\")\n",
    "cnt = mean[\"DIFF\"] > 0"
   ]
  },
  {
   "cell_type": "code",
   "execution_count": 180,
   "metadata": {},
   "outputs": [
    {
     "data": {
      "image/png": "[encoded data removed]",
      "text/plain": [
       "<Figure size 1152x720 with 4 Axes>"
      ]
     },
     "metadata": {
      "needs_background": "light"
     },
     "output_type": "display_data"
    }
   ],
   "source": [
    "top_5 = mean.nlargest(5, \"DIFF\")\n",
    "\n",
    "bottom_5 = mean.nsmallest(5,\"DIFF\")\n",
    "\n",
    "plt.figure(figsize=(16,10))\n",
    "plt.suptitle(\"Mean pay for employees with same title\")\n",
    "\n",
    "plt.subplot(221)\n",
    "sns.barplot(data=top_5, x=top_5.index, y=\"DIFF\")\n",
    "plt.xticks(rotation=40, ha=\"right\")\n",
    "plt.title(\"Top 5 deparments where avg pay is higher for men\")\n",
    "plt.ylabel(\"Mean pay difference\")\n",
    "\n",
    "\n",
    "plt.subplot(222)\n",
    "sns.barplot(data=bottom_5, x=bottom_5.index, y=bottom_5[\"DIFF\"].abs())\n",
    "plt.xticks(rotation=40, ha=\"right\")\n",
    "plt.title(\"Top 5 deparments where avg pay is higher for woman\")\n",
    "plt.ylabel(\"Mean pay difference\")\n",
    "plt.xlabel(\"\")\n",
    "\n",
    "plt.sharey=True\n",
    "\n",
    "ax = plt.subplot(223)\n",
    "sns.countplot(data=cnt, x=cnt.index)\n",
    "plt.ylabel(\"Number of departments\")\n",
    "ax.set_xticklabels([\"Mean pay higher for women\", \"Mean pay higher for men\"])\n",
    "plt.xlabel(\"\")\n",
    "plt.title(\"5 departments still pay men more than woman in the same role\")\n",
    "\n",
    "plt.subplot(224)\n",
    "total_avg.plot.bar()\n",
    "plt.title(\"Average pay for men and women with same title across all dept\")\n",
    "plt.xticks(rotation=0, ha=\"center\")\n",
    "plt.text(\n",
    "    0,\n",
    "    60000,\n",
    "    f\"${jobs.mean()[0].round(1)}\",\n",
    "    color = 'white',\n",
    "    fontsize = 15,\n",
    "    ha =\"center\"\n",
    ")\n",
    "plt.text(\n",
    "    1,\n",
    "    60000,\n",
    "    f\"${jobs.mean()[1].round(1)}\",\n",
    "    color = 'white',\n",
    "    fontsize = 15,\n",
    "    ha =\"center\"\n",
    ")\n",
    "\n",
    "\n",
    "plt.subplots_adjust(hspace=1, wspace = .3)\n"
   ]
  },
  {
   "cell_type": "code",
   "execution_count": null,
   "metadata": {
    "scrolled": true
   },
   "outputs": [],
   "source": [
    "bottom_5"
   ]
  },
  {
   "cell_type": "code",
   "execution_count": null,
   "metadata": {
    "scrolled": true
   },
   "outputs": [],
   "source": [
    "city_data.head()"
   ]
  },
  {
   "cell_type": "code",
   "execution_count": null,
   "metadata": {
    "scrolled": true
   },
   "outputs": [],
   "source": [
    "city_data[city_data[\"BUSINESS AREA\"] == \"NON DEPARTMENTAL\"].pivot_table('FY16 TOTAL COMPENSATION9', [\"BUSINESS AREA\", \"JOB TITLE\"], \"GENDER\").dropna()"
   ]
  },
  {
   "cell_type": "markdown",
   "metadata": {},
   "source": [
    "Looking at the mean per job - with a filter of similar length of hire-date"
   ]
  },
  {
   "cell_type": "code",
   "execution_count": 165,
   "metadata": {},
   "outputs": [],
   "source": [
    "city_data[\"legnth_time\"] = city_data[\"length_time\"]/ pd.Timedelta(1, unit='d')\n",
    "\n",
    "dates = city_data.pivot_table('legnth_time', [\"BUSINESS AREA\", \"JOB TITLE\"], \"GENDER\", aggfunc=\"sum\")\n",
    "\n",
    "dates = dates.dropna()"
   ]
  },
  {
   "cell_type": "code",
   "execution_count": 166,
   "metadata": {},
   "outputs": [],
   "source": [
    "n_days = 1826\n",
    "n_days_above_x = city_data[\"legnth_time\"] >= n_days"
   ]
  },
  {
   "cell_type": "code",
   "execution_count": 167,
   "metadata": {},
   "outputs": [],
   "source": [
    "city_data_w_dates = city_data[n_days_above_x]"
   ]
  },
  {
   "cell_type": "code",
   "execution_count": 169,
   "metadata": {},
   "outputs": [],
   "source": [
    "jobs_w_dates = city_data_w_dates.pivot_table('FY16 TOTAL COMPENSATION9', [\"BUSINESS AREA\", \"JOB TITLE\"], \"GENDER\", aggfunc=\"sum\")"
   ]
  },
  {
   "cell_type": "code",
   "execution_count": 173,
   "metadata": {},
   "outputs": [
    {
     "data": {
      "text/html": [
       "<div>\n",
       "<style scoped>\n",
       "    .dataframe tbody tr th:only-of-type {\n",
       "        vertical-align: middle;\n",
       "    }\n",
       "\n",
       "    .dataframe tbody tr th {\n",
       "        vertical-align: top;\n",
       "    }\n",
       "\n",
       "    .dataframe thead th {\n",
       "        text-align: right;\n",
       "    }\n",
       "</style>\n",
       "<table border=\"1\" class=\"dataframe\">\n",
       "  <thead>\n",
       "    <tr style=\"text-align: right;\">\n",
       "      <th></th>\n",
       "      <th>GENDER</th>\n",
       "      <th>FEMALE</th>\n",
       "      <th>MALE</th>\n",
       "    </tr>\n",
       "    <tr>\n",
       "      <th>BUSINESS AREA</th>\n",
       "      <th>JOB TITLE</th>\n",
       "      <th></th>\n",
       "      <th></th>\n",
       "    </tr>\n",
       "  </thead>\n",
       "  <tbody>\n",
       "    <tr>\n",
       "      <td rowspan=\"5\" valign=\"top\">ANIMAL CARE SERVICES</td>\n",
       "      <td>0209-VETERINARY TECHNICIAN</td>\n",
       "      <td>241767.278309</td>\n",
       "      <td>1.150398e+05</td>\n",
       "    </tr>\n",
       "    <tr>\n",
       "      <td>0221-ANIMAL CARE SUPERVISOR</td>\n",
       "      <td>75652.438590</td>\n",
       "      <td>3.599852e+05</td>\n",
       "    </tr>\n",
       "    <tr>\n",
       "      <td>0223-ANIMAL CARE OFFICER</td>\n",
       "      <td>109662.214450</td>\n",
       "      <td>3.123433e+05</td>\n",
       "    </tr>\n",
       "    <tr>\n",
       "      <td>0226-ANIMAL CARE ATTENDANT</td>\n",
       "      <td>99662.881302</td>\n",
       "      <td>3.579973e+05</td>\n",
       "    </tr>\n",
       "    <tr>\n",
       "      <td>2111-ANIMAL CARE SPECIALIST</td>\n",
       "      <td>57605.947867</td>\n",
       "      <td>1.166734e+05</td>\n",
       "    </tr>\n",
       "    <tr>\n",
       "      <td>...</td>\n",
       "      <td>...</td>\n",
       "      <td>...</td>\n",
       "      <td>...</td>\n",
       "    </tr>\n",
       "    <tr>\n",
       "      <td rowspan=\"5\" valign=\"top\">TRANSPORTATION &amp; CAPITAL IMPROV</td>\n",
       "      <td>2219-SENIOR ACCOUNTANT</td>\n",
       "      <td>147662.546195</td>\n",
       "      <td>7.861777e+04</td>\n",
       "    </tr>\n",
       "    <tr>\n",
       "      <td>2220-ACCOUNTANT</td>\n",
       "      <td>346093.012057</td>\n",
       "      <td>5.356554e+04</td>\n",
       "    </tr>\n",
       "    <tr>\n",
       "      <td>7250-TCI OPERATIONS SUPERINTENDENT</td>\n",
       "      <td>104865.738707</td>\n",
       "      <td>7.476607e+05</td>\n",
       "    </tr>\n",
       "    <tr>\n",
       "      <td>7420-SENIOR EQUIPMENT OPERATOR</td>\n",
       "      <td>61585.962578</td>\n",
       "      <td>5.099186e+06</td>\n",
       "    </tr>\n",
       "    <tr>\n",
       "      <td>7579-MAINTENANCE WORKER</td>\n",
       "      <td>95052.923779</td>\n",
       "      <td>2.530251e+06</td>\n",
       "    </tr>\n",
       "  </tbody>\n",
       "</table>\n",
       "<p>298 rows × 2 columns</p>\n",
       "</div>"
      ],
      "text/plain": [
       "GENDER                                                                     FEMALE  \\\n",
       "BUSINESS AREA                   JOB TITLE                                           \n",
       "ANIMAL CARE SERVICES            0209-VETERINARY TECHNICIAN          241767.278309   \n",
       "                                0221-ANIMAL CARE SUPERVISOR          75652.438590   \n",
       "                                0223-ANIMAL CARE OFFICER            109662.214450   \n",
       "                                0226-ANIMAL CARE ATTENDANT           99662.881302   \n",
       "                                2111-ANIMAL CARE SPECIALIST          57605.947867   \n",
       "...                                                                           ...   \n",
       "TRANSPORTATION & CAPITAL IMPROV 2219-SENIOR ACCOUNTANT              147662.546195   \n",
       "                                2220-ACCOUNTANT                     346093.012057   \n",
       "                                7250-TCI OPERATIONS SUPERINTENDENT  104865.738707   \n",
       "                                7420-SENIOR EQUIPMENT OPERATOR       61585.962578   \n",
       "                                7579-MAINTENANCE WORKER              95052.923779   \n",
       "\n",
       "GENDER                                                                      MALE  \n",
       "BUSINESS AREA                   JOB TITLE                                         \n",
       "ANIMAL CARE SERVICES            0209-VETERINARY TECHNICIAN          1.150398e+05  \n",
       "                                0221-ANIMAL CARE SUPERVISOR         3.599852e+05  \n",
       "                                0223-ANIMAL CARE OFFICER            3.123433e+05  \n",
       "                                0226-ANIMAL CARE ATTENDANT          3.579973e+05  \n",
       "                                2111-ANIMAL CARE SPECIALIST         1.166734e+05  \n",
       "...                                                                          ...  \n",
       "TRANSPORTATION & CAPITAL IMPROV 2219-SENIOR ACCOUNTANT              7.861777e+04  \n",
       "                                2220-ACCOUNTANT                     5.356554e+04  \n",
       "                                7250-TCI OPERATIONS SUPERINTENDENT  7.476607e+05  \n",
       "                                7420-SENIOR EQUIPMENT OPERATOR      5.099186e+06  \n",
       "                                7579-MAINTENANCE WORKER             2.530251e+06  \n",
       "\n",
       "[298 rows x 2 columns]"
      ]
     },
     "execution_count": 173,
     "metadata": {},
     "output_type": "execute_result"
    }
   ],
   "source": [
    "jobs_w_dates"
   ]
  },
  {
   "cell_type": "code",
   "execution_count": 170,
   "metadata": {},
   "outputs": [],
   "source": [
    "jobs_w_dates = jobs_w_dates.dropna()"
   ]
  },
  {
   "cell_type": "code",
   "execution_count": 171,
   "metadata": {},
   "outputs": [],
   "source": [
    "mean_w_dates = jobs_w_dates.groupby(\"BUSINESS AREA\").mean()\n",
    "\n",
    "mean_w_dates = mean_w_dates.assign(DIFF = mean_w_dates[\"MALE\"] - mean_w_dates[\"FEMALE\"]).sort_values(by=\"DIFF\")\n",
    "cnt_w_dates = mean[\"DIFF\"] > 0\n",
    "\n",
    "total_avg_w_dates = jobs_w_dates.mean()"
   ]
  },
  {
   "cell_type": "code",
   "execution_count": 172,
   "metadata": {},
   "outputs": [
    {
     "data": {
      "image/png": "[encoded data removed]",
      "text/plain": [
       "<Figure size 1152x720 with 4 Axes>"
      ]
     },
     "metadata": {
      "needs_background": "light"
     },
     "output_type": "display_data"
    }
   ],
   "source": [
    "top_5_w_dates = mean_w_dates.nlargest(5, \"DIFF\")\n",
    "\n",
    "bottom_5_w_dates = mean_w_dates.nsmallest(5,\"DIFF\")\n",
    "\n",
    "plt.figure(figsize=(16,10))\n",
    "plt.suptitle(\"Mean pay for employees with same title and who have worked for atleast 5 years\")\n",
    "\n",
    "plt.subplot(221)\n",
    "sns.barplot(data=top_5_w_dates, x=top_5_w_dates.index, y=\"DIFF\")\n",
    "plt.xticks(rotation=40, ha=\"right\")\n",
    "plt.title(\"Top 5 deparments where avg pay is higher for men\")\n",
    "plt.ylabel(\"Mean pay difference\")\n",
    "plt.xlabel('')\n",
    "\n",
    "\n",
    "plt.subplot(222)\n",
    "sns.barplot(data=bottom_5_w_dates, x=bottom_5_w_dates.index, y=bottom_5_w_dates[\"DIFF\"].abs())\n",
    "plt.xticks(rotation=40, ha=\"right\")\n",
    "plt.title(\"Top 5 deparments where avg pay is higher for woman\")\n",
    "plt.ylabel(\"Mean pay difference\")\n",
    "plt.xlabel(\"\")\n",
    "\n",
    "plt.sharey=True\n",
    "\n",
    "ax = plt.subplot(223)\n",
    "sns.countplot(data=cnt_w_dates, x=cnt_w_dates.index)\n",
    "plt.ylabel(\"Number of departments\")\n",
    "ax.set_xticklabels([\"Mean pay higher for women\", \"Mean pay higher for men\"])\n",
    "plt.xlabel(\"\")\n",
    "plt.title(\"5 departments still pay men more than woman in the same role\")\n",
    "\n",
    "plt.subplot(224)\n",
    "total_avg_w_dates.plot.bar()\n",
    "plt.title(\"Average pay for men and women with same title across all dept\")\n",
    "plt.xticks(rotation=0, ha=\"center\")\n",
    "plt.text(\n",
    "    0,\n",
    "    60000,\n",
    "    f\"${jobs_w_dates.mean()[0].round(1)}\",\n",
    "    color = 'white',\n",
    "    fontsize = 15,\n",
    "    ha =\"center\"\n",
    ")\n",
    "plt.text(\n",
    "    1,\n",
    "    60000,\n",
    "    f\"${jobs_w_dates.mean()[1].round(1)}\",\n",
    "    color = 'white',\n",
    "    fontsize = 15,\n",
    "    ha =\"center\"\n",
    ")\n",
    "\n",
    "\n",
    "plt.subplots_adjust(hspace=1, wspace = .3)"
   ]
  },
  {
   "cell_type": "markdown",
   "metadata": {},
   "source": [
    "## What if I wanted to show pay difference by gender over number of years\n",
    "\n",
    "I can maybe create a crosstab with hire date and full compensation, then graph it by grouping by time."
   ]
  },
  {
   "cell_type": "code",
   "execution_count": 184,
   "metadata": {},
   "outputs": [],
   "source": [
    "dates_jobs = city_data.pivot_table([\"legnth_time\",'FY16 TOTAL COMPENSATION9'], [\"BUSINESS AREA\", \"JOB TITLE\"], \"GENDER\", aggfunc=\"sum\").dropna()"
   ]
  },
  {
   "cell_type": "code",
   "execution_count": 196,
   "metadata": {},
   "outputs": [
    {
     "data": {
      "text/html": [
       "<div>\n",
       "<style scoped>\n",
       "    .dataframe tbody tr th:only-of-type {\n",
       "        vertical-align: middle;\n",
       "    }\n",
       "\n",
       "    .dataframe tbody tr th {\n",
       "        vertical-align: top;\n",
       "    }\n",
       "\n",
       "    .dataframe thead th {\n",
       "        text-align: right;\n",
       "    }\n",
       "</style>\n",
       "<table border=\"1\" class=\"dataframe\">\n",
       "  <thead>\n",
       "    <tr style=\"text-align: right;\">\n",
       "      <th></th>\n",
       "      <th></th>\n",
       "      <th>FY16 TOTAL COMPENSATION9</th>\n",
       "      <th>legnth_time</th>\n",
       "    </tr>\n",
       "    <tr>\n",
       "      <th>BUSINESS AREA</th>\n",
       "      <th>JOB TITLE</th>\n",
       "      <th></th>\n",
       "      <th></th>\n",
       "    </tr>\n",
       "  </thead>\n",
       "  <tbody>\n",
       "    <tr>\n",
       "      <td rowspan=\"5\" valign=\"top\">ANIMAL CARE SERVICES</td>\n",
       "      <td>0042-SENIOR ADMINISTRATIVE ASSISTANT</td>\n",
       "      <td>7.567918e+04</td>\n",
       "      <td>11457.0</td>\n",
       "    </tr>\n",
       "    <tr>\n",
       "      <td>0046-MANAGEMENT ANALYST</td>\n",
       "      <td>5.924846e+04</td>\n",
       "      <td>467.0</td>\n",
       "    </tr>\n",
       "    <tr>\n",
       "      <td>0080-PUBLIC RELATIONS MANAGER</td>\n",
       "      <td>9.407660e+04</td>\n",
       "      <td>3764.0</td>\n",
       "    </tr>\n",
       "    <tr>\n",
       "      <td>0156-CONTRACT COORDINATOR</td>\n",
       "      <td>7.821806e+04</td>\n",
       "      <td>1412.0</td>\n",
       "    </tr>\n",
       "    <tr>\n",
       "      <td>0205-CHIEF VETERINARIAN</td>\n",
       "      <td>1.643283e+05</td>\n",
       "      <td>1789.0</td>\n",
       "    </tr>\n",
       "    <tr>\n",
       "      <td>...</td>\n",
       "      <td>...</td>\n",
       "      <td>...</td>\n",
       "      <td>...</td>\n",
       "    </tr>\n",
       "    <tr>\n",
       "      <td rowspan=\"5\" valign=\"top\">TRANSPORTATION &amp; CAPITAL IMPROV</td>\n",
       "      <td>7579-MAINTENANCE WORKER</td>\n",
       "      <td>4.363854e+06</td>\n",
       "      <td>332253.0</td>\n",
       "    </tr>\n",
       "    <tr>\n",
       "      <td>7680-CARPENTER II</td>\n",
       "      <td>1.738604e+05</td>\n",
       "      <td>22035.0</td>\n",
       "    </tr>\n",
       "    <tr>\n",
       "      <td>7750-WELDER</td>\n",
       "      <td>2.369522e+05</td>\n",
       "      <td>21073.0</td>\n",
       "    </tr>\n",
       "    <tr>\n",
       "      <td>7790-FLEET MAINTENANCE TECHNICIAN II</td>\n",
       "      <td>7.383559e+04</td>\n",
       "      <td>766.0</td>\n",
       "    </tr>\n",
       "    <tr>\n",
       "      <td>7990-CONCRETE FINISHER</td>\n",
       "      <td>4.156181e+05</td>\n",
       "      <td>22597.0</td>\n",
       "    </tr>\n",
       "  </tbody>\n",
       "</table>\n",
       "<p>1496 rows × 2 columns</p>\n",
       "</div>"
      ],
      "text/plain": [
       "                                                                      FY16 TOTAL COMPENSATION9  \\\n",
       "BUSINESS AREA                   JOB TITLE                                                        \n",
       "ANIMAL CARE SERVICES            0042-SENIOR ADMINISTRATIVE ASSISTANT              7.567918e+04   \n",
       "                                0046-MANAGEMENT ANALYST                           5.924846e+04   \n",
       "                                0080-PUBLIC RELATIONS MANAGER                     9.407660e+04   \n",
       "                                0156-CONTRACT COORDINATOR                         7.821806e+04   \n",
       "                                0205-CHIEF VETERINARIAN                           1.643283e+05   \n",
       "...                                                                                        ...   \n",
       "TRANSPORTATION & CAPITAL IMPROV 7579-MAINTENANCE WORKER                           4.363854e+06   \n",
       "                                7680-CARPENTER II                                 1.738604e+05   \n",
       "                                7750-WELDER                                       2.369522e+05   \n",
       "                                7790-FLEET MAINTENANCE TECHNICIAN II              7.383559e+04   \n",
       "                                7990-CONCRETE FINISHER                            4.156181e+05   \n",
       "\n",
       "                                                                      legnth_time  \n",
       "BUSINESS AREA                   JOB TITLE                                          \n",
       "ANIMAL CARE SERVICES            0042-SENIOR ADMINISTRATIVE ASSISTANT      11457.0  \n",
       "                                0046-MANAGEMENT ANALYST                     467.0  \n",
       "                                0080-PUBLIC RELATIONS MANAGER              3764.0  \n",
       "                                0156-CONTRACT COORDINATOR                  1412.0  \n",
       "                                0205-CHIEF VETERINARIAN                    1789.0  \n",
       "...                                                                           ...  \n",
       "TRANSPORTATION & CAPITAL IMPROV 7579-MAINTENANCE WORKER                  332253.0  \n",
       "                                7680-CARPENTER II                         22035.0  \n",
       "                                7750-WELDER                               21073.0  \n",
       "                                7790-FLEET MAINTENANCE TECHNICIAN II        766.0  \n",
       "                                7990-CONCRETE FINISHER                    22597.0  \n",
       "\n",
       "[1496 rows x 2 columns]"
      ]
     },
     "execution_count": 196,
     "metadata": {},
     "output_type": "execute_result"
    }
   ],
   "source": [
    "city_data.pivot_table([\"legnth_time\",'FY16 TOTAL COMPENSATION9'], [\"BUSINESS AREA\", \"JOB TITLE\"], aggfunc=\"sum\")"
   ]
  },
  {
   "cell_type": "code",
   "execution_count": null,
   "metadata": {},
   "outputs": [],
   "source": []
  }
 ],
 "metadata": {
  "kernelspec": {
   "display_name": "Python 3",
   "language": "python",
   "name": "python3"
  },
  "language_info": {
   "codemirror_mode": {
    "name": "ipython",
    "version": 3
   },
   "file_extension": ".py",
   "mimetype": "text/x-python",
   "name": "python",
   "nbconvert_exporter": "python",
   "pygments_lexer": "ipython3",
   "version": "3.7.4"
  }
 },
 "nbformat": 4,
 "nbformat_minor": 2
}
