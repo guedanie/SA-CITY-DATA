{
 "cells": [
  {
   "cell_type": "markdown",
   "metadata": {},
   "source": [
    "## San Antonio City Salary Data\n",
    "\n",
    "Data set by Annie Millrbernd\n",
    "https://data.world/amillerbernd/san-antonio-city-salary-data\n",
    "\n",
    "**DESCRIPTION**\n",
    "Compensation of San Antonio City Employees, 2012-2016. All data provided by the City of San Antonio.\n",
    "SUMMARY\n",
    "About this Dataset\n",
    "\n",
    "Included in these data are all the earnings and some demographic information about city employees.\n",
    "\n",
    "**Objectives**\n",
    "\n",
    "Collection, retention, annual presentation\n",
    "\n",
    "**Background**\n",
    "\n",
    "1Hire Date reflects the most recent date of hire with the City in the event the employee left employment and was rehired or was a temporary employee and became a full time permanent employee.\t\n",
    "2Annual Salary reflects what the employee's current base salary would be for a year based on the position held at September 30, 2016.\t\n",
    "3Base Pay reflects the regular salary the employee actually earned during the fiscal year regardless of position held. It is possible with position changes, length of time with the City, etc. that an employee's Base Pay will not equal their Annual Salary.\t\n",
    "4Leave Payout reflects leave the employee sold back to the City during the fiscal year. For full-time employees who separated during the fiscal year this may also include accrued leave sold back to the City upon separation.\t\n",
    "5Other reflects various incentives paid to City employees based on their job position and education level. Incentives include but are not limited to education pay; language skill pay; certification pay; car allowance; transportation allowance; cell phone reimbursement; clothing allowance; and shift differential.\t\n",
    "6City policy allows employees to bank overtime hours for future compensated absences.\t\n",
    "7 Gross Earnings reflect the total pay employees received between October 1st and September 30th. \n",
    "8Additional Benefits are incremental costs incurred by the City of behalf of employees to include the employer's share of FICA/Medicare, TMRS [Pension], annual Health Assessment [average healthcare benefit costs] and other related fringe provided to employees.\t\n",
    "9Total Compensation reflects the total cost the City incurred for the employee's services received between October 1st and September 30th.\t\n",
    "10Federal law requires the City of San Antonio to keep records of its employees' race/ethnicity and sex and to report this information to the Equal Employment Opportunity Commission (EEOC). The EEOC identifies the acceptable methods for a city or state to acquire this information. The City follows EEOC \n",
    "requirements by obtaining the race/ethnicity information from employees through voluntary reporting (self identification) or from visual surveys of its workforce. Therefore, the City cannot guarantee the complete accuracy of this information."
   ]
  },
  {
   "cell_type": "markdown",
   "metadata": {},
   "source": [
    "## Key questions: \n",
    "\n",
    "### 1. Are there any trends in pay based on gender\n",
    "### 2. Are there any trends in pay based on race\n",
    "### 3. What is the biggest city department (based on number of employees)\n",
    "### 4. What is the most high paying-department (based on total salary)"
   ]
  },
  {
   "cell_type": "code",
   "execution_count": 15,
   "metadata": {},
   "outputs": [
    {
     "data": {
      "text/plain": [
       "datetime.datetime(2016, 12, 31, 0, 0)"
      ]
     },
     "execution_count": 15,
     "metadata": {},
     "output_type": "execute_result"
    }
   ],
   "source": [
    "import pandas as pd\n",
    "import numpy as np\n",
    "import matplotlib.pyplot as plt\n",
    "%matplotlib inline\n",
    "import seaborn as sns\n",
    "import math\n",
    "from datetime import datetime, timedelta\n",
    "\n",
    "# Function to comvert the \"HIRE DATE1\" column into usable date format\n",
    "def from_excel_ordinal(ordinal, epoch=datetime(1900, 1, 1)):\n",
    "    # Adapted from above, thanks to @Martijn Pieters \n",
    "\n",
    "    if ordinal > 59:\n",
    "        ordinal -= 1  # Excel leap year bug, 1900 is not a leap year!\n",
    "    inDays = int(ordinal)\n",
    "    frac = ordinal - inDays\n",
    "    inSecs = int(round(frac * 86400.0))\n",
    "\n",
    "    return epoch + timedelta(days=inDays - 1, seconds=inSecs) # epoch is day 1\n",
    "\n",
    "last_date = \"2016-12-31\"\n",
    "\n",
    "datetime.strptime(last_date, '%Y-%m-%d')"
   ]
  },
  {
   "cell_type": "code",
   "execution_count": 2,
   "metadata": {},
   "outputs": [],
   "source": [
    "city_data = pd.read_excel(\"FY16 SA City Compensation.xlsx\")\n",
    "city_data[\"HIRE DATE1\"] = city_data[\"HIRE DATE1\"].apply(from_excel_ordinal)"
   ]
  },
  {
   "cell_type": "code",
   "execution_count": 3,
   "metadata": {
    "scrolled": false
   },
   "outputs": [
    {
     "name": "stdout",
     "output_type": "stream",
     "text": [
      "<class 'pandas.core.frame.DataFrame'>\n",
      "RangeIndex: 11923 entries, 0 to 11922\n",
      "Data columns (total 18 columns):\n",
      "REF #                        11923 non-null int64\n",
      "FIRST NAME                   11923 non-null object\n",
      "MIDDLE NAME                  6261 non-null object\n",
      "LAST NAME                    11923 non-null object\n",
      "HIRE DATE1                   11923 non-null datetime64[ns]\n",
      "FY16 ANNUAL SALARY2          11923 non-null float64\n",
      "FY16 BASE PAY3               11923 non-null float64\n",
      "FY16 LEAVE PAYOUT4           11923 non-null float64\n",
      "FY16 OTHER5                  11923 non-null float64\n",
      "FY16 OVERTIME6               11923 non-null float64\n",
      "FY16 GROSS EARNINGS7         11923 non-null float64\n",
      "FY16 ADDITIONAL BENEFITS8    11923 non-null float64\n",
      "FY16 TOTAL COMPENSATION9     11923 non-null float64\n",
      "JOB TITLE                    11923 non-null object\n",
      "BUSINESS AREA                11923 non-null object\n",
      "GENDER                       11923 non-null object\n",
      "ETHNIC ORIGIN10              11923 non-null object\n",
      "EMPLOYEE SUBGROUP            11923 non-null object\n",
      "dtypes: datetime64[ns](1), float64(8), int64(1), object(8)\n",
      "memory usage: 1.6+ MB\n"
     ]
    }
   ],
   "source": [
    "city_data.info()"
   ]
  },
  {
   "cell_type": "code",
   "execution_count": 17,
   "metadata": {
    "scrolled": true
   },
   "outputs": [
    {
     "data": {
      "text/html": [
       "<div>\n",
       "<style scoped>\n",
       "    .dataframe tbody tr th:only-of-type {\n",
       "        vertical-align: middle;\n",
       "    }\n",
       "\n",
       "    .dataframe tbody tr th {\n",
       "        vertical-align: top;\n",
       "    }\n",
       "\n",
       "    .dataframe thead th {\n",
       "        text-align: right;\n",
       "    }\n",
       "</style>\n",
       "<table border=\"1\" class=\"dataframe\">\n",
       "  <thead>\n",
       "    <tr style=\"text-align: right;\">\n",
       "      <th></th>\n",
       "      <th>REF #</th>\n",
       "      <th>FIRST NAME</th>\n",
       "      <th>MIDDLE NAME</th>\n",
       "      <th>LAST NAME</th>\n",
       "      <th>HIRE DATE1</th>\n",
       "      <th>FY16 ANNUAL SALARY2</th>\n",
       "      <th>FY16 BASE PAY3</th>\n",
       "      <th>FY16 LEAVE PAYOUT4</th>\n",
       "      <th>FY16 OTHER5</th>\n",
       "      <th>FY16 OVERTIME6</th>\n",
       "      <th>FY16 GROSS EARNINGS7</th>\n",
       "      <th>FY16 ADDITIONAL BENEFITS8</th>\n",
       "      <th>FY16 TOTAL COMPENSATION9</th>\n",
       "      <th>JOB TITLE</th>\n",
       "      <th>BUSINESS AREA</th>\n",
       "      <th>GENDER</th>\n",
       "      <th>ETHNIC ORIGIN10</th>\n",
       "      <th>EMPLOYEE SUBGROUP</th>\n",
       "      <th>length_time</th>\n",
       "    </tr>\n",
       "  </thead>\n",
       "  <tbody>\n",
       "    <tr>\n",
       "      <td>0</td>\n",
       "      <td>1</td>\n",
       "      <td>SHERYL</td>\n",
       "      <td>L.</td>\n",
       "      <td>SCULLEY</td>\n",
       "      <td>2005-11-07</td>\n",
       "      <td>425000.00</td>\n",
       "      <td>414615.38</td>\n",
       "      <td>0.00</td>\n",
       "      <td>97354.89</td>\n",
       "      <td>0.0</td>\n",
       "      <td>511970.27</td>\n",
       "      <td>75379.480000</td>\n",
       "      <td>587349.750000</td>\n",
       "      <td>1022-CITY MANAGER</td>\n",
       "      <td>CITY MANAGER'S OFFICE</td>\n",
       "      <td>FEMALE</td>\n",
       "      <td>WHITE</td>\n",
       "      <td>2A CITY MGR FT</td>\n",
       "      <td>4072 days</td>\n",
       "    </tr>\n",
       "    <tr>\n",
       "      <td>1</td>\n",
       "      <td>2</td>\n",
       "      <td>CASANDRA</td>\n",
       "      <td>BROWN</td>\n",
       "      <td>MATEJ</td>\n",
       "      <td>2011-06-13</td>\n",
       "      <td>200906.16</td>\n",
       "      <td>196106.64</td>\n",
       "      <td>12751.20</td>\n",
       "      <td>46221.88</td>\n",
       "      <td>0.0</td>\n",
       "      <td>255079.72</td>\n",
       "      <td>49355.342435</td>\n",
       "      <td>304435.062435</td>\n",
       "      <td>1013-CVB DIRECTOR</td>\n",
       "      <td>CONVENTION AND VISITORS BUREAU</td>\n",
       "      <td>FEMALE</td>\n",
       "      <td>WHITE</td>\n",
       "      <td>2B DEPT DIR FT</td>\n",
       "      <td>2028 days</td>\n",
       "    </tr>\n",
       "    <tr>\n",
       "      <td>2</td>\n",
       "      <td>3</td>\n",
       "      <td>PETER</td>\n",
       "      <td>DAMIAN</td>\n",
       "      <td>ZANONI</td>\n",
       "      <td>1997-04-02</td>\n",
       "      <td>230405.76</td>\n",
       "      <td>219271.20</td>\n",
       "      <td>8112.80</td>\n",
       "      <td>6840.00</td>\n",
       "      <td>0.0</td>\n",
       "      <td>234224.00</td>\n",
       "      <td>48466.712147</td>\n",
       "      <td>282690.712147</td>\n",
       "      <td>1021-DEPUTY CITY MANAGER</td>\n",
       "      <td>CITY MANAGER'S OFFICE</td>\n",
       "      <td>MALE</td>\n",
       "      <td>WHITE</td>\n",
       "      <td>2B DEPT DIR FT</td>\n",
       "      <td>7213 days</td>\n",
       "    </tr>\n",
       "    <tr>\n",
       "      <td>3</td>\n",
       "      <td>4</td>\n",
       "      <td>ERIK</td>\n",
       "      <td>J</td>\n",
       "      <td>WALSH</td>\n",
       "      <td>1994-06-06</td>\n",
       "      <td>235014.26</td>\n",
       "      <td>223656.70</td>\n",
       "      <td>0.00</td>\n",
       "      <td>6840.00</td>\n",
       "      <td>0.0</td>\n",
       "      <td>230496.70</td>\n",
       "      <td>49268.050267</td>\n",
       "      <td>279764.750267</td>\n",
       "      <td>1021-DEPUTY CITY MANAGER</td>\n",
       "      <td>CITY MANAGER'S OFFICE</td>\n",
       "      <td>MALE</td>\n",
       "      <td>HISPANIC</td>\n",
       "      <td>2B DEPT DIR FT</td>\n",
       "      <td>8244 days</td>\n",
       "    </tr>\n",
       "    <tr>\n",
       "      <td>4</td>\n",
       "      <td>5</td>\n",
       "      <td>CHARLES</td>\n",
       "      <td>N.</td>\n",
       "      <td>HOOD</td>\n",
       "      <td>2007-04-16</td>\n",
       "      <td>202562.62</td>\n",
       "      <td>197723.57</td>\n",
       "      <td>12397.05</td>\n",
       "      <td>9480.00</td>\n",
       "      <td>0.0</td>\n",
       "      <td>219600.62</td>\n",
       "      <td>46434.995086</td>\n",
       "      <td>266035.615086</td>\n",
       "      <td>1003-FIRE CHIEF</td>\n",
       "      <td>FIRE</td>\n",
       "      <td>MALE</td>\n",
       "      <td>BLACK</td>\n",
       "      <td>2C F&amp;P CHIEF FT</td>\n",
       "      <td>3547 days</td>\n",
       "    </tr>\n",
       "    <tr>\n",
       "      <td>...</td>\n",
       "      <td>...</td>\n",
       "      <td>...</td>\n",
       "      <td>...</td>\n",
       "      <td>...</td>\n",
       "      <td>...</td>\n",
       "      <td>...</td>\n",
       "      <td>...</td>\n",
       "      <td>...</td>\n",
       "      <td>...</td>\n",
       "      <td>...</td>\n",
       "      <td>...</td>\n",
       "      <td>...</td>\n",
       "      <td>...</td>\n",
       "      <td>...</td>\n",
       "      <td>...</td>\n",
       "      <td>...</td>\n",
       "      <td>...</td>\n",
       "      <td>...</td>\n",
       "      <td>...</td>\n",
       "    </tr>\n",
       "    <tr>\n",
       "      <td>11918</td>\n",
       "      <td>11919</td>\n",
       "      <td>TIMOTHY</td>\n",
       "      <td>NaN</td>\n",
       "      <td>ADAMS</td>\n",
       "      <td>2016-09-19</td>\n",
       "      <td>28600.00</td>\n",
       "      <td>0.00</td>\n",
       "      <td>0.00</td>\n",
       "      <td>0.00</td>\n",
       "      <td>0.0</td>\n",
       "      <td>0.00</td>\n",
       "      <td>0.000000</td>\n",
       "      <td>0.000000</td>\n",
       "      <td>0623-SCHOOL CROSSING GUARD</td>\n",
       "      <td>POLICE</td>\n",
       "      <td>MALE</td>\n",
       "      <td>WHITE</td>\n",
       "      <td>4C SCHOOL X'ING GUAR</td>\n",
       "      <td>103 days</td>\n",
       "    </tr>\n",
       "    <tr>\n",
       "      <td>11919</td>\n",
       "      <td>11920</td>\n",
       "      <td>ZHIPING</td>\n",
       "      <td>NaN</td>\n",
       "      <td>LAO</td>\n",
       "      <td>2016-09-12</td>\n",
       "      <td>28600.00</td>\n",
       "      <td>0.00</td>\n",
       "      <td>0.00</td>\n",
       "      <td>0.00</td>\n",
       "      <td>0.0</td>\n",
       "      <td>0.00</td>\n",
       "      <td>0.000000</td>\n",
       "      <td>0.000000</td>\n",
       "      <td>0623-SCHOOL CROSSING GUARD</td>\n",
       "      <td>POLICE</td>\n",
       "      <td>FEMALE</td>\n",
       "      <td>ASIAN OR PACIFIC ISLANDER</td>\n",
       "      <td>4C SCHOOL X'ING GUAR</td>\n",
       "      <td>110 days</td>\n",
       "    </tr>\n",
       "    <tr>\n",
       "      <td>11920</td>\n",
       "      <td>11921</td>\n",
       "      <td>CHERYL</td>\n",
       "      <td>NaN</td>\n",
       "      <td>CROMER</td>\n",
       "      <td>2016-09-13</td>\n",
       "      <td>28600.00</td>\n",
       "      <td>0.00</td>\n",
       "      <td>0.00</td>\n",
       "      <td>0.00</td>\n",
       "      <td>0.0</td>\n",
       "      <td>0.00</td>\n",
       "      <td>0.000000</td>\n",
       "      <td>0.000000</td>\n",
       "      <td>0623-SCHOOL CROSSING GUARD</td>\n",
       "      <td>POLICE</td>\n",
       "      <td>FEMALE</td>\n",
       "      <td>BLACK</td>\n",
       "      <td>4C SCHOOL X'ING GUAR</td>\n",
       "      <td>109 days</td>\n",
       "    </tr>\n",
       "    <tr>\n",
       "      <td>11921</td>\n",
       "      <td>11922</td>\n",
       "      <td>CATHY</td>\n",
       "      <td>NaN</td>\n",
       "      <td>SOUTHARD</td>\n",
       "      <td>2016-09-21</td>\n",
       "      <td>28600.00</td>\n",
       "      <td>0.00</td>\n",
       "      <td>0.00</td>\n",
       "      <td>0.00</td>\n",
       "      <td>0.0</td>\n",
       "      <td>0.00</td>\n",
       "      <td>0.000000</td>\n",
       "      <td>0.000000</td>\n",
       "      <td>0623-SCHOOL CROSSING GUARD</td>\n",
       "      <td>POLICE</td>\n",
       "      <td>FEMALE</td>\n",
       "      <td>WHITE</td>\n",
       "      <td>4C SCHOOL X'ING GUAR</td>\n",
       "      <td>101 days</td>\n",
       "    </tr>\n",
       "    <tr>\n",
       "      <td>11922</td>\n",
       "      <td>11923</td>\n",
       "      <td>DANIELLE</td>\n",
       "      <td>NaN</td>\n",
       "      <td>CERVANTES</td>\n",
       "      <td>2016-09-24</td>\n",
       "      <td>18200.00</td>\n",
       "      <td>0.00</td>\n",
       "      <td>0.00</td>\n",
       "      <td>0.00</td>\n",
       "      <td>0.0</td>\n",
       "      <td>0.00</td>\n",
       "      <td>0.000000</td>\n",
       "      <td>0.000000</td>\n",
       "      <td>9005-TEMPORARY EMPLOYEE</td>\n",
       "      <td>HUMAN RESOURCES</td>\n",
       "      <td>FEMALE</td>\n",
       "      <td>HISPANIC</td>\n",
       "      <td>4C TEMP</td>\n",
       "      <td>98 days</td>\n",
       "    </tr>\n",
       "  </tbody>\n",
       "</table>\n",
       "<p>11923 rows × 19 columns</p>\n",
       "</div>"
      ],
      "text/plain": [
       "       REF # FIRST NAME MIDDLE NAME  LAST NAME HIRE DATE1  \\\n",
       "0          1     SHERYL          L.    SCULLEY 2005-11-07   \n",
       "1          2   CASANDRA       BROWN      MATEJ 2011-06-13   \n",
       "2          3      PETER      DAMIAN     ZANONI 1997-04-02   \n",
       "3          4       ERIK           J      WALSH 1994-06-06   \n",
       "4          5    CHARLES          N.       HOOD 2007-04-16   \n",
       "...      ...        ...         ...        ...        ...   \n",
       "11918  11919    TIMOTHY         NaN      ADAMS 2016-09-19   \n",
       "11919  11920    ZHIPING         NaN        LAO 2016-09-12   \n",
       "11920  11921     CHERYL         NaN     CROMER 2016-09-13   \n",
       "11921  11922      CATHY         NaN   SOUTHARD 2016-09-21   \n",
       "11922  11923   DANIELLE         NaN  CERVANTES 2016-09-24   \n",
       "\n",
       "       FY16 ANNUAL SALARY2  FY16 BASE PAY3  FY16 LEAVE PAYOUT4  FY16 OTHER5  \\\n",
       "0                425000.00       414615.38                0.00     97354.89   \n",
       "1                200906.16       196106.64            12751.20     46221.88   \n",
       "2                230405.76       219271.20             8112.80      6840.00   \n",
       "3                235014.26       223656.70                0.00      6840.00   \n",
       "4                202562.62       197723.57            12397.05      9480.00   \n",
       "...                    ...             ...                 ...          ...   \n",
       "11918             28600.00            0.00                0.00         0.00   \n",
       "11919             28600.00            0.00                0.00         0.00   \n",
       "11920             28600.00            0.00                0.00         0.00   \n",
       "11921             28600.00            0.00                0.00         0.00   \n",
       "11922             18200.00            0.00                0.00         0.00   \n",
       "\n",
       "       FY16 OVERTIME6  FY16 GROSS EARNINGS7  FY16 ADDITIONAL BENEFITS8  \\\n",
       "0                 0.0             511970.27               75379.480000   \n",
       "1                 0.0             255079.72               49355.342435   \n",
       "2                 0.0             234224.00               48466.712147   \n",
       "3                 0.0             230496.70               49268.050267   \n",
       "4                 0.0             219600.62               46434.995086   \n",
       "...               ...                   ...                        ...   \n",
       "11918             0.0                  0.00                   0.000000   \n",
       "11919             0.0                  0.00                   0.000000   \n",
       "11920             0.0                  0.00                   0.000000   \n",
       "11921             0.0                  0.00                   0.000000   \n",
       "11922             0.0                  0.00                   0.000000   \n",
       "\n",
       "       FY16 TOTAL COMPENSATION9                   JOB TITLE  \\\n",
       "0                 587349.750000           1022-CITY MANAGER   \n",
       "1                 304435.062435           1013-CVB DIRECTOR   \n",
       "2                 282690.712147    1021-DEPUTY CITY MANAGER   \n",
       "3                 279764.750267    1021-DEPUTY CITY MANAGER   \n",
       "4                 266035.615086             1003-FIRE CHIEF   \n",
       "...                         ...                         ...   \n",
       "11918                  0.000000  0623-SCHOOL CROSSING GUARD   \n",
       "11919                  0.000000  0623-SCHOOL CROSSING GUARD   \n",
       "11920                  0.000000  0623-SCHOOL CROSSING GUARD   \n",
       "11921                  0.000000  0623-SCHOOL CROSSING GUARD   \n",
       "11922                  0.000000     9005-TEMPORARY EMPLOYEE   \n",
       "\n",
       "                        BUSINESS AREA  GENDER            ETHNIC ORIGIN10  \\\n",
       "0               CITY MANAGER'S OFFICE  FEMALE                      WHITE   \n",
       "1      CONVENTION AND VISITORS BUREAU  FEMALE                      WHITE   \n",
       "2               CITY MANAGER'S OFFICE    MALE                      WHITE   \n",
       "3               CITY MANAGER'S OFFICE    MALE                   HISPANIC   \n",
       "4                                FIRE    MALE                      BLACK   \n",
       "...                               ...     ...                        ...   \n",
       "11918                          POLICE    MALE                      WHITE   \n",
       "11919                          POLICE  FEMALE  ASIAN OR PACIFIC ISLANDER   \n",
       "11920                          POLICE  FEMALE                      BLACK   \n",
       "11921                          POLICE  FEMALE                      WHITE   \n",
       "11922                 HUMAN RESOURCES  FEMALE                   HISPANIC   \n",
       "\n",
       "          EMPLOYEE SUBGROUP length_time  \n",
       "0            2A CITY MGR FT   4072 days  \n",
       "1            2B DEPT DIR FT   2028 days  \n",
       "2            2B DEPT DIR FT   7213 days  \n",
       "3            2B DEPT DIR FT   8244 days  \n",
       "4           2C F&P CHIEF FT   3547 days  \n",
       "...                     ...         ...  \n",
       "11918  4C SCHOOL X'ING GUAR    103 days  \n",
       "11919  4C SCHOOL X'ING GUAR    110 days  \n",
       "11920  4C SCHOOL X'ING GUAR    109 days  \n",
       "11921  4C SCHOOL X'ING GUAR    101 days  \n",
       "11922               4C TEMP     98 days  \n",
       "\n",
       "[11923 rows x 19 columns]"
      ]
     },
     "execution_count": 17,
     "metadata": {},
     "output_type": "execute_result"
    }
   ],
   "source": [
    "city_data.assign(length_time = datetime.strptime(last_date, '%Y-%m-%d') - city_data[\"HIRE DATE1\"])"
   ]
  },
  {
   "cell_type": "code",
   "execution_count": 25,
   "metadata": {},
   "outputs": [
    {
     "ename": "KeyError",
     "evalue": "'length_time'",
     "output_type": "error",
     "traceback": [
      "\u001b[0;31m---------------------------------------------------------------------------\u001b[0m",
      "\u001b[0;31mKeyError\u001b[0m                                  Traceback (most recent call last)",
      "\u001b[0;32m/usr/local/anaconda3/lib/python3.7/site-packages/pandas/core/indexes/base.py\u001b[0m in \u001b[0;36mget_loc\u001b[0;34m(self, key, method, tolerance)\u001b[0m\n\u001b[1;32m   2896\u001b[0m             \u001b[0;32mtry\u001b[0m\u001b[0;34m:\u001b[0m\u001b[0;34m\u001b[0m\u001b[0;34m\u001b[0m\u001b[0m\n\u001b[0;32m-> 2897\u001b[0;31m                 \u001b[0;32mreturn\u001b[0m \u001b[0mself\u001b[0m\u001b[0;34m.\u001b[0m\u001b[0m_engine\u001b[0m\u001b[0;34m.\u001b[0m\u001b[0mget_loc\u001b[0m\u001b[0;34m(\u001b[0m\u001b[0mkey\u001b[0m\u001b[0;34m)\u001b[0m\u001b[0;34m\u001b[0m\u001b[0;34m\u001b[0m\u001b[0m\n\u001b[0m\u001b[1;32m   2898\u001b[0m             \u001b[0;32mexcept\u001b[0m \u001b[0mKeyError\u001b[0m\u001b[0;34m:\u001b[0m\u001b[0;34m\u001b[0m\u001b[0;34m\u001b[0m\u001b[0m\n",
      "\u001b[0;32mpandas/_libs/index.pyx\u001b[0m in \u001b[0;36mpandas._libs.index.IndexEngine.get_loc\u001b[0;34m()\u001b[0m\n",
      "\u001b[0;32mpandas/_libs/index.pyx\u001b[0m in \u001b[0;36mpandas._libs.index.IndexEngine.get_loc\u001b[0;34m()\u001b[0m\n",
      "\u001b[0;32mpandas/_libs/hashtable_class_helper.pxi\u001b[0m in \u001b[0;36mpandas._libs.hashtable.PyObjectHashTable.get_item\u001b[0;34m()\u001b[0m\n",
      "\u001b[0;32mpandas/_libs/hashtable_class_helper.pxi\u001b[0m in \u001b[0;36mpandas._libs.hashtable.PyObjectHashTable.get_item\u001b[0;34m()\u001b[0m\n",
      "\u001b[0;31mKeyError\u001b[0m: 'length_time'",
      "\nDuring handling of the above exception, another exception occurred:\n",
      "\u001b[0;31mKeyError\u001b[0m                                  Traceback (most recent call last)",
      "\u001b[0;32m<ipython-input-25-690ef8ea00f2>\u001b[0m in \u001b[0;36m<module>\u001b[0;34m\u001b[0m\n\u001b[0;32m----> 1\u001b[0;31m \u001b[0mcity_data\u001b[0m\u001b[0;34m.\u001b[0m\u001b[0massign\u001b[0m\u001b[0;34m(\u001b[0m\u001b[0mlength_time_y\u001b[0m \u001b[0;34m=\u001b[0m \u001b[0mcity_data\u001b[0m\u001b[0;34m[\u001b[0m\u001b[0;34m\"length_time\"\u001b[0m\u001b[0;34m]\u001b[0m\u001b[0;34m/\u001b[0m\u001b[0mnp\u001b[0m\u001b[0;34m.\u001b[0m\u001b[0mtimedelta64\u001b[0m\u001b[0;34m(\u001b[0m\u001b[0;36m1\u001b[0m\u001b[0;34m,\u001b[0m \u001b[0;34m'Y'\u001b[0m\u001b[0;34m)\u001b[0m\u001b[0;34m)\u001b[0m\u001b[0;34m\u001b[0m\u001b[0;34m\u001b[0m\u001b[0m\n\u001b[0m",
      "\u001b[0;32m/usr/local/anaconda3/lib/python3.7/site-packages/pandas/core/frame.py\u001b[0m in \u001b[0;36m__getitem__\u001b[0;34m(self, key)\u001b[0m\n\u001b[1;32m   2978\u001b[0m             \u001b[0;32mif\u001b[0m \u001b[0mself\u001b[0m\u001b[0;34m.\u001b[0m\u001b[0mcolumns\u001b[0m\u001b[0;34m.\u001b[0m\u001b[0mnlevels\u001b[0m \u001b[0;34m>\u001b[0m \u001b[0;36m1\u001b[0m\u001b[0;34m:\u001b[0m\u001b[0;34m\u001b[0m\u001b[0;34m\u001b[0m\u001b[0m\n\u001b[1;32m   2979\u001b[0m                 \u001b[0;32mreturn\u001b[0m \u001b[0mself\u001b[0m\u001b[0;34m.\u001b[0m\u001b[0m_getitem_multilevel\u001b[0m\u001b[0;34m(\u001b[0m\u001b[0mkey\u001b[0m\u001b[0;34m)\u001b[0m\u001b[0;34m\u001b[0m\u001b[0;34m\u001b[0m\u001b[0m\n\u001b[0;32m-> 2980\u001b[0;31m             \u001b[0mindexer\u001b[0m \u001b[0;34m=\u001b[0m \u001b[0mself\u001b[0m\u001b[0;34m.\u001b[0m\u001b[0mcolumns\u001b[0m\u001b[0;34m.\u001b[0m\u001b[0mget_loc\u001b[0m\u001b[0;34m(\u001b[0m\u001b[0mkey\u001b[0m\u001b[0;34m)\u001b[0m\u001b[0;34m\u001b[0m\u001b[0;34m\u001b[0m\u001b[0m\n\u001b[0m\u001b[1;32m   2981\u001b[0m             \u001b[0;32mif\u001b[0m \u001b[0mis_integer\u001b[0m\u001b[0;34m(\u001b[0m\u001b[0mindexer\u001b[0m\u001b[0;34m)\u001b[0m\u001b[0;34m:\u001b[0m\u001b[0;34m\u001b[0m\u001b[0;34m\u001b[0m\u001b[0m\n\u001b[1;32m   2982\u001b[0m                 \u001b[0mindexer\u001b[0m \u001b[0;34m=\u001b[0m \u001b[0;34m[\u001b[0m\u001b[0mindexer\u001b[0m\u001b[0;34m]\u001b[0m\u001b[0;34m\u001b[0m\u001b[0;34m\u001b[0m\u001b[0m\n",
      "\u001b[0;32m/usr/local/anaconda3/lib/python3.7/site-packages/pandas/core/indexes/base.py\u001b[0m in \u001b[0;36mget_loc\u001b[0;34m(self, key, method, tolerance)\u001b[0m\n\u001b[1;32m   2897\u001b[0m                 \u001b[0;32mreturn\u001b[0m \u001b[0mself\u001b[0m\u001b[0;34m.\u001b[0m\u001b[0m_engine\u001b[0m\u001b[0;34m.\u001b[0m\u001b[0mget_loc\u001b[0m\u001b[0;34m(\u001b[0m\u001b[0mkey\u001b[0m\u001b[0;34m)\u001b[0m\u001b[0;34m\u001b[0m\u001b[0;34m\u001b[0m\u001b[0m\n\u001b[1;32m   2898\u001b[0m             \u001b[0;32mexcept\u001b[0m \u001b[0mKeyError\u001b[0m\u001b[0;34m:\u001b[0m\u001b[0;34m\u001b[0m\u001b[0;34m\u001b[0m\u001b[0m\n\u001b[0;32m-> 2899\u001b[0;31m                 \u001b[0;32mreturn\u001b[0m \u001b[0mself\u001b[0m\u001b[0;34m.\u001b[0m\u001b[0m_engine\u001b[0m\u001b[0;34m.\u001b[0m\u001b[0mget_loc\u001b[0m\u001b[0;34m(\u001b[0m\u001b[0mself\u001b[0m\u001b[0;34m.\u001b[0m\u001b[0m_maybe_cast_indexer\u001b[0m\u001b[0;34m(\u001b[0m\u001b[0mkey\u001b[0m\u001b[0;34m)\u001b[0m\u001b[0;34m)\u001b[0m\u001b[0;34m\u001b[0m\u001b[0;34m\u001b[0m\u001b[0m\n\u001b[0m\u001b[1;32m   2900\u001b[0m         \u001b[0mindexer\u001b[0m \u001b[0;34m=\u001b[0m \u001b[0mself\u001b[0m\u001b[0;34m.\u001b[0m\u001b[0mget_indexer\u001b[0m\u001b[0;34m(\u001b[0m\u001b[0;34m[\u001b[0m\u001b[0mkey\u001b[0m\u001b[0;34m]\u001b[0m\u001b[0;34m,\u001b[0m \u001b[0mmethod\u001b[0m\u001b[0;34m=\u001b[0m\u001b[0mmethod\u001b[0m\u001b[0;34m,\u001b[0m \u001b[0mtolerance\u001b[0m\u001b[0;34m=\u001b[0m\u001b[0mtolerance\u001b[0m\u001b[0;34m)\u001b[0m\u001b[0;34m\u001b[0m\u001b[0;34m\u001b[0m\u001b[0m\n\u001b[1;32m   2901\u001b[0m         \u001b[0;32mif\u001b[0m \u001b[0mindexer\u001b[0m\u001b[0;34m.\u001b[0m\u001b[0mndim\u001b[0m \u001b[0;34m>\u001b[0m \u001b[0;36m1\u001b[0m \u001b[0;32mor\u001b[0m \u001b[0mindexer\u001b[0m\u001b[0;34m.\u001b[0m\u001b[0msize\u001b[0m \u001b[0;34m>\u001b[0m \u001b[0;36m1\u001b[0m\u001b[0;34m:\u001b[0m\u001b[0;34m\u001b[0m\u001b[0;34m\u001b[0m\u001b[0m\n",
      "\u001b[0;32mpandas/_libs/index.pyx\u001b[0m in \u001b[0;36mpandas._libs.index.IndexEngine.get_loc\u001b[0;34m()\u001b[0m\n",
      "\u001b[0;32mpandas/_libs/index.pyx\u001b[0m in \u001b[0;36mpandas._libs.index.IndexEngine.get_loc\u001b[0;34m()\u001b[0m\n",
      "\u001b[0;32mpandas/_libs/hashtable_class_helper.pxi\u001b[0m in \u001b[0;36mpandas._libs.hashtable.PyObjectHashTable.get_item\u001b[0;34m()\u001b[0m\n",
      "\u001b[0;32mpandas/_libs/hashtable_class_helper.pxi\u001b[0m in \u001b[0;36mpandas._libs.hashtable.PyObjectHashTable.get_item\u001b[0;34m()\u001b[0m\n",
      "\u001b[0;31mKeyError\u001b[0m: 'length_time'"
     ]
    }
   ],
   "source": [
    "city_data.assign(length_time_y = city_data[\"length_time\"]/np.timedelta64(1, 'Y'))"
   ]
  },
  {
   "cell_type": "code",
   "execution_count": 18,
   "metadata": {},
   "outputs": [
    {
     "data": {
      "text/plain": [
       "11.148757332457203"
      ]
     },
     "execution_count": 18,
     "metadata": {},
     "output_type": "execute_result"
    }
   ],
   "source": [
    "(datetime.strptime(last_date, '%Y-%m-%d') - city_data[\"HIRE DATE1\"][0])/np.timedelta64(1, 'Y')"
   ]
  },
  {
   "cell_type": "code",
   "execution_count": null,
   "metadata": {},
   "outputs": [],
   "source": [
    "max_salary = city_data[\"FY16 TOTAL COMPENSATION9\"] == city_data[\"FY16 TOTAL COMPENSATION9\"].max()"
   ]
  },
  {
   "cell_type": "code",
   "execution_count": null,
   "metadata": {},
   "outputs": [],
   "source": [
    "city_data[max_salary]"
   ]
  },
  {
   "cell_type": "markdown",
   "metadata": {},
   "source": [
    "### Q1: Are there any trends in pay based on gender"
   ]
  },
  {
   "cell_type": "code",
   "execution_count": null,
   "metadata": {},
   "outputs": [],
   "source": [
    "city_data.groupby(\"GENDER\")[\"FY16 TOTAL COMPENSATION9\"].count()"
   ]
  },
  {
   "cell_type": "code",
   "execution_count": null,
   "metadata": {
    "scrolled": true
   },
   "outputs": [],
   "source": [
    "city_data.groupby(\"GENDER\")[\"FY16 TOTAL COMPENSATION9\"].mean().round(0)"
   ]
  },
  {
   "cell_type": "code",
   "execution_count": null,
   "metadata": {},
   "outputs": [],
   "source": [
    "female_mean = round(city_data[city_data.GENDER == \"FEMALE\"][\"FY16 TOTAL COMPENSATION9\"].mean(), 1)\n",
    "male_mean = round(city_data[city_data.GENDER == \"MALE\"][\"FY16 TOTAL COMPENSATION9\"].mean(), 1)"
   ]
  },
  {
   "cell_type": "code",
   "execution_count": null,
   "metadata": {
    "scrolled": true
   },
   "outputs": [],
   "source": [
    "sns.barplot(x=\"GENDER\", y=\"FY16 TOTAL COMPENSATION9\", data=city_data)\n",
    "plt.title(\"Mean Income by Gender\")\n",
    "plt.text(\n",
    "    0,\n",
    "    40000,\n",
    "    f'${female_mean}',\n",
    "    ha='center',\n",
    "    va='center',\n",
    "    color='white'\n",
    ")\n",
    "plt.text(\n",
    "    1,\n",
    "    80000,\n",
    "    f'${male_mean}',\n",
    "    ha='center',\n",
    "    va='center',\n",
    "    color='white'\n",
    "       )\n",
    "plt.text(\n",
    "    -.2,\n",
    "    80000,\n",
    "    f'Difference of ${male_mean - female_mean}',\n",
    "    color='black'\n",
    ")"
   ]
  },
  {
   "cell_type": "markdown",
   "metadata": {},
   "source": [
    "### 2. Are there any trends in pay based on race"
   ]
  },
  {
   "cell_type": "code",
   "execution_count": null,
   "metadata": {},
   "outputs": [],
   "source": [
    "ethnic_columns = city_data[[\"ETHNIC ORIGIN10\", \"FY16 TOTAL COMPENSATION9\"]]"
   ]
  },
  {
   "cell_type": "code",
   "execution_count": null,
   "metadata": {},
   "outputs": [],
   "source": [
    "plt.figure(figsize=(19,6))\n",
    "sns.countplot(x=\"ETHNIC ORIGIN10\", data=city_data, orient='v')\n",
    "plt.xticks(rotation=40, ha=\"right\")\n",
    "plt.title(\"Count of individuals by race\")"
   ]
  },
  {
   "cell_type": "code",
   "execution_count": null,
   "metadata": {},
   "outputs": [],
   "source": [
    "plt.figure(figsize=(16,9))\n",
    "sns.barplot(data=city_data, x=\"ETHNIC ORIGIN10\", y=\"FY16 TOTAL COMPENSATION9\")\n",
    "plt.xticks(rotation = 40, fontsize=6, ha=\"right\")\n",
    "plt.title(\"Mean salary by race\")\n",
    "plt.ylabel(\"Mean Compensation\")"
   ]
  },
  {
   "cell_type": "code",
   "execution_count": null,
   "metadata": {},
   "outputs": [],
   "source": [
    "plt.figure(figsize=(16,9))\n",
    "sns.boxplot(data=city_data, x=\"ETHNIC ORIGIN10\", y=\"FY16 TOTAL COMPENSATION9\")\n",
    "plt.xticks(rotation = 40, fontsize=6, ha=\"right\")\n",
    "plt.title(\"Mean salary by race\")\n",
    "plt.ylabel(\"Mean Compensation\")"
   ]
  },
  {
   "cell_type": "markdown",
   "metadata": {},
   "source": [
    "### 3. What is the biggest city department (based on number of employees)"
   ]
  },
  {
   "cell_type": "code",
   "execution_count": null,
   "metadata": {},
   "outputs": [],
   "source": [
    "city_data.groupby(\"BUSINESS AREA\")[\"REF #\"].count().sort_values(ascending = False)"
   ]
  },
  {
   "cell_type": "code",
   "execution_count": null,
   "metadata": {
    "scrolled": true
   },
   "outputs": [],
   "source": [
    "plt.figure(figsize=(16,9))\n",
    "sns.countplot(data=city_data, x=\"BUSINESS AREA\")\n",
    "plt.xticks(rotation=45, fontsize=6, ha=\"right\" )"
   ]
  },
  {
   "cell_type": "code",
   "execution_count": null,
   "metadata": {},
   "outputs": [],
   "source": [
    "count_emp = city_data.groupby(\"BUSINESS AREA\")[\"BUSINESS AREA\",\"REF #\"].count().sort_values(by=\"REF #\", ascending=False).head(5)"
   ]
  },
  {
   "cell_type": "code",
   "execution_count": null,
   "metadata": {
    "scrolled": true
   },
   "outputs": [],
   "source": [
    "count_emp"
   ]
  },
  {
   "cell_type": "code",
   "execution_count": null,
   "metadata": {},
   "outputs": [],
   "source": [
    "sns.barplot(data=count_emp, x=\"BUSINESS AREA\", y=count_emp.index)\n",
    "plt.title(\"Number of Employees in the 5 biggest departments\")\n",
    "plt.xlabel(\"Number of employees\")\n",
    "# plt.text(\n",
    "#     0,\n",
    "#     1000,\n",
    "#     \"Police\",\n",
    "#     rotation = 90,\n",
    "#     color='white',\n",
    "#     fontsize = 15\n",
    "# )\n",
    "# plt.text(\n",
    "#     1,\n",
    "#     1000,\n",
    "#     \"Fire\",\n",
    "#     rotation = 90,\n",
    "#     color='white',\n",
    "#     fontsize = 15\n",
    "# )\n",
    "# plt.text(\n",
    "#     2,\n",
    "#     1000,\n",
    "#     \"Human Resources\",\n",
    "#     rotation = 90,\n",
    "#     color='black',\n",
    "#     fontsize = 14\n",
    "    \n",
    "# )\n",
    "# plt.text(\n",
    "#     3,\n",
    "#     1000,\n",
    "#     \"Transportation\",\n",
    "#     rotation = 90,\n",
    "#     color='black',\n",
    "#     fontsize = 13\n",
    "    \n",
    "# )\n",
    "# plt.text(\n",
    "#     4,\n",
    "#     1000,\n",
    "#     \"Parks and Rec\",\n",
    "#     rotation = 90,\n",
    "#     color='black',\n",
    "#     fontsize = 13\n",
    "    \n",
    "# )"
   ]
  },
  {
   "cell_type": "markdown",
   "metadata": {},
   "source": [
    "### 4. What is the most high paying-department (based on total salary)"
   ]
  },
  {
   "cell_type": "code",
   "execution_count": null,
   "metadata": {},
   "outputs": [],
   "source": [
    "city_data.groupby(\"BUSINESS AREA\")[\"FY16 TOTAL COMPENSATION9\"].sum().round(1).sort_values(ascending=False).head(5)"
   ]
  },
  {
   "cell_type": "code",
   "execution_count": null,
   "metadata": {
    "scrolled": true
   },
   "outputs": [],
   "source": [
    "plt.figure(figsize=(16,9))\n",
    "plt.xticks(rotation=45, fontsize=6)\n",
    "sns.barplot(data=city_data, y=\"BUSINESS AREA\", x=\"FY16 TOTAL COMPENSATION9\", estimator=sum)\n",
    "plt.title(\"Total (sum) compensation by Business Area\")\n"
   ]
  },
  {
   "cell_type": "code",
   "execution_count": null,
   "metadata": {},
   "outputs": [],
   "source": [
    "plt.figure(figsize=(16,9))\n",
    "sns.barplot(data=city_data, y=\"BUSINESS AREA\", x= \"FY16 TOTAL COMPENSATION9\")\n",
    "plt.xticks(rotation=45, fontsize=10)\n",
    "plt.title(\"Mean compensation by Business Area\")"
   ]
  },
  {
   "cell_type": "markdown",
   "metadata": {},
   "source": [
    "### Top 5 for question 4"
   ]
  },
  {
   "cell_type": "code",
   "execution_count": null,
   "metadata": {},
   "outputs": [],
   "source": [
    "count = city_data.groupby(\"BUSINESS AREA\")[\"BUSINESS AREA\", \"FY16 TOTAL COMPENSATION9\"].sum().sort_values(by=\"FY16 TOTAL COMPENSATION9\", ascending=False).head(5)\n",
    "mean_data = city_data.groupby(\"BUSINESS AREA\")[\"BUSINESS AREA\", \"FY16 TOTAL COMPENSATION9\"].mean().sort_values(by=\"FY16 TOTAL COMPENSATION9\", ascending=False).head(5)"
   ]
  },
  {
   "cell_type": "code",
   "execution_count": null,
   "metadata": {
    "scrolled": true
   },
   "outputs": [],
   "source": [
    "plt.figure(figsize=(12,10))\n",
    "plt.suptitle(\"Compensation by Business Area\")\n",
    "\n",
    "plt.subplot(221)\n",
    "sns.barplot(data=mean_data, x=mean_data.index, y=\"FY16 TOTAL COMPENSATION9\")\n",
    "plt.xticks(rotation=45, fontsize=10, ha=\"right\")\n",
    "plt.title(\"Mean compensation for top 5 business areas\")\n",
    "# plt.yscale(\"log\")\n",
    "\n",
    "plt.subplot(222)\n",
    "sns.barplot(data=count, x=count.index, y=\"FY16 TOTAL COMPENSATION9\")\n",
    "plt.xticks(rotation=45, fontsize=10, ha=\"right\")\n",
    "plt.title(\"Total compensation in top 5 business areas\")\n",
    "\n",
    "\n",
    "plt.subplots_adjust(hspace=0.4)"
   ]
  },
  {
   "cell_type": "markdown",
   "metadata": {},
   "source": [
    "# Future Questions\n",
    "\n",
    "* How has compensation changed over time (different data sets going all the way back to 2012? But separate sheets so would need to figure out a way to join them. \n",
    "\n",
    "* Compare the pay for gender based on matching positions. \n",
    "\n",
    "* Which department had the most overtime / which one had the most leave payout. \n",
    "\n",
    "* Are there any trends or correlation as to which departments have the best base salaries, versus which have higher bonuses or other forms of rewards. "
   ]
  },
  {
   "cell_type": "markdown",
   "metadata": {},
   "source": [
    "# Potential Fixes\n",
    "\n",
    "- Add the x ticks inside the bars to make them a little bit easier to see"
   ]
  },
  {
   "cell_type": "code",
   "execution_count": null,
   "metadata": {},
   "outputs": [],
   "source": [
    "jobs = city_data.pivot_table('FY16 TOTAL COMPENSATION9', [\"BUSINESS AREA\", \"JOB TITLE\"], \"GENDER\")"
   ]
  },
  {
   "cell_type": "code",
   "execution_count": null,
   "metadata": {},
   "outputs": [],
   "source": [
    "jobs = jobs.dropna()"
   ]
  },
  {
   "cell_type": "code",
   "execution_count": null,
   "metadata": {},
   "outputs": [],
   "source": [
    "mean = jobs.groupby(\"BUSINESS AREA\").mean()"
   ]
  },
  {
   "cell_type": "code",
   "execution_count": null,
   "metadata": {},
   "outputs": [],
   "source": [
    "mean = mean.assign(DIFF = mean[\"MALE\"] - mean[\"FEMALE\"]).sort_values(by=\"DIFF\")\n",
    "cnt = mean[\"DIFF\"] > 0"
   ]
  },
  {
   "cell_type": "code",
   "execution_count": null,
   "metadata": {},
   "outputs": [],
   "source": [
    "top_5 = mean.nlargest(5, \"DIFF\")\n",
    "\n",
    "bottom_5 = mean.nsmallest(5,\"DIFF\")\n",
    "\n",
    "plt.figure(figsize=(16,10))\n",
    "plt.suptitle(\"Departments where avg. pay is most disproportionate\")\n",
    "\n",
    "plt.subplot(221)\n",
    "sns.barplot(data=top_5, x=top_5.index, y=\"DIFF\")\n",
    "plt.xticks(rotation=40, ha=\"right\")\n",
    "plt.title(\"Top 5 deparments where avg pay is higher for men\")\n",
    "plt.ylabel(\"Mean pay difference\")\n",
    "\n",
    "\n",
    "plt.subplot(222)\n",
    "sns.barplot(data=bottom_5, x=bottom_5.index, y=bottom_5[\"DIFF\"].abs())\n",
    "plt.xticks(rotation=40, ha=\"right\")\n",
    "plt.title(\"Top 5 deparments where avg pay is higher for woman\")\n",
    "plt.ylabel(\"Mean pay difference\")\n",
    "\n",
    "plt.sharey=True\n",
    "\n",
    "ax = plt.subplot(223.5)\n",
    "sns.countplot(data=cnt, x=cnt.index)\n",
    "plt.ylabel(\"Number of departments\")\n",
    "ax.set_xticklabels([\"Mean pay higher for women\", \"Mean pay higher for men\"])\n",
    "plt.xlabel(\"\")\n",
    "\n",
    "\n",
    "plt.subplots_adjust(hspace=1, wspace = .3)\n"
   ]
  },
  {
   "cell_type": "code",
   "execution_count": null,
   "metadata": {
    "scrolled": true
   },
   "outputs": [],
   "source": [
    "bottom_5"
   ]
  },
  {
   "cell_type": "code",
   "execution_count": null,
   "metadata": {
    "scrolled": true
   },
   "outputs": [],
   "source": [
    "city_data.head()"
   ]
  },
  {
   "cell_type": "code",
   "execution_count": null,
   "metadata": {
    "scrolled": true
   },
   "outputs": [],
   "source": [
    "city_data[city_data[\"BUSINESS AREA\"] == \"NON DEPARTMENTAL\"].pivot_table('FY16 TOTAL COMPENSATION9', [\"BUSINESS AREA\", \"JOB TITLE\"], \"GENDER\").dropna()"
   ]
  }
 ],
 "metadata": {
  "kernelspec": {
   "display_name": "Python 3",
   "language": "python",
   "name": "python3"
  },
  "language_info": {
   "codemirror_mode": {
    "name": "ipython",
    "version": 3
   },
   "file_extension": ".py",
   "mimetype": "text/x-python",
   "name": "python",
   "nbconvert_exporter": "python",
   "pygments_lexer": "ipython3",
   "version": "3.7.4"
  }
 },
 "nbformat": 4,
 "nbformat_minor": 2
}
