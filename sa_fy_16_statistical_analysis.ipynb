{
 "cells": [
  {
   "cell_type": "code",
   "execution_count": 9,
   "metadata": {},
   "outputs": [
    {
     "data": {
      "text/plain": [
       "datetime.datetime(2016, 12, 31, 0, 0)"
      ]
     },
     "execution_count": 9,
     "metadata": {},
     "output_type": "execute_result"
    }
   ],
   "source": [
    "import pandas as pd\n",
    "import numpy as np\n",
    "import matplotlib.pyplot as plt\n",
    "%matplotlib inline\n",
    "import seaborn as sns\n",
    "import math\n",
    "from datetime import datetime, timedelta\n",
    "from scipy import stats\n",
    "\n",
    "# Function to comvert the \"HIRE DATE1\" column into usable date format\n",
    "def from_excel_ordinal(ordinal, epoch=datetime(1900, 1, 1)):\n",
    "    # Adapted from above, thanks to @Martijn Pieters \n",
    "\n",
    "    if ordinal > 59:\n",
    "        ordinal -= 1  # Excel leap year bug, 1900 is not a leap year!\n",
    "    inDays = int(ordinal)\n",
    "    frac = ordinal - inDays\n",
    "    inSecs = int(round(frac * 86400.0))\n",
    "\n",
    "    return epoch + timedelta(days=inDays - 1, seconds=inSecs) # epoch is day 1\n",
    "\n",
    "last_date = \"2016-12-31\"\n",
    "\n",
    "datetime.strptime(last_date, '%Y-%m-%d')"
   ]
  },
  {
   "cell_type": "code",
   "execution_count": 2,
   "metadata": {},
   "outputs": [],
   "source": [
    "city_data = pd.read_excel(\"FY16 SA City Compensation.xlsx\")\n",
    "city_data[\"HIRE DATE1\"] = city_data[\"HIRE DATE1\"].apply(from_excel_ordinal)"
   ]
  },
  {
   "cell_type": "code",
   "execution_count": 3,
   "metadata": {
    "scrolled": true
   },
   "outputs": [
    {
     "data": {
      "text/html": [
       "<div>\n",
       "<style scoped>\n",
       "    .dataframe tbody tr th:only-of-type {\n",
       "        vertical-align: middle;\n",
       "    }\n",
       "\n",
       "    .dataframe tbody tr th {\n",
       "        vertical-align: top;\n",
       "    }\n",
       "\n",
       "    .dataframe thead th {\n",
       "        text-align: right;\n",
       "    }\n",
       "</style>\n",
       "<table border=\"1\" class=\"dataframe\">\n",
       "  <thead>\n",
       "    <tr style=\"text-align: right;\">\n",
       "      <th></th>\n",
       "      <th>REF #</th>\n",
       "      <th>FIRST NAME</th>\n",
       "      <th>MIDDLE NAME</th>\n",
       "      <th>LAST NAME</th>\n",
       "      <th>HIRE DATE1</th>\n",
       "      <th>FY16 ANNUAL SALARY2</th>\n",
       "      <th>FY16 BASE PAY3</th>\n",
       "      <th>FY16 LEAVE PAYOUT4</th>\n",
       "      <th>FY16 OTHER5</th>\n",
       "      <th>FY16 OVERTIME6</th>\n",
       "      <th>FY16 GROSS EARNINGS7</th>\n",
       "      <th>FY16 ADDITIONAL BENEFITS8</th>\n",
       "      <th>FY16 TOTAL COMPENSATION9</th>\n",
       "      <th>JOB TITLE</th>\n",
       "      <th>BUSINESS AREA</th>\n",
       "      <th>GENDER</th>\n",
       "      <th>ETHNIC ORIGIN10</th>\n",
       "      <th>EMPLOYEE SUBGROUP</th>\n",
       "    </tr>\n",
       "  </thead>\n",
       "  <tbody>\n",
       "    <tr>\n",
       "      <td>0</td>\n",
       "      <td>1</td>\n",
       "      <td>SHERYL</td>\n",
       "      <td>L.</td>\n",
       "      <td>SCULLEY</td>\n",
       "      <td>2005-11-07</td>\n",
       "      <td>425000.00</td>\n",
       "      <td>414615.38</td>\n",
       "      <td>0.00</td>\n",
       "      <td>97354.89</td>\n",
       "      <td>0.0</td>\n",
       "      <td>511970.27</td>\n",
       "      <td>75379.480000</td>\n",
       "      <td>587349.750000</td>\n",
       "      <td>1022-CITY MANAGER</td>\n",
       "      <td>CITY MANAGER'S OFFICE</td>\n",
       "      <td>FEMALE</td>\n",
       "      <td>WHITE</td>\n",
       "      <td>2A CITY MGR FT</td>\n",
       "    </tr>\n",
       "    <tr>\n",
       "      <td>1</td>\n",
       "      <td>2</td>\n",
       "      <td>CASANDRA</td>\n",
       "      <td>BROWN</td>\n",
       "      <td>MATEJ</td>\n",
       "      <td>2011-06-13</td>\n",
       "      <td>200906.16</td>\n",
       "      <td>196106.64</td>\n",
       "      <td>12751.20</td>\n",
       "      <td>46221.88</td>\n",
       "      <td>0.0</td>\n",
       "      <td>255079.72</td>\n",
       "      <td>49355.342435</td>\n",
       "      <td>304435.062435</td>\n",
       "      <td>1013-CVB DIRECTOR</td>\n",
       "      <td>CONVENTION AND VISITORS BUREAU</td>\n",
       "      <td>FEMALE</td>\n",
       "      <td>WHITE</td>\n",
       "      <td>2B DEPT DIR FT</td>\n",
       "    </tr>\n",
       "    <tr>\n",
       "      <td>2</td>\n",
       "      <td>3</td>\n",
       "      <td>PETER</td>\n",
       "      <td>DAMIAN</td>\n",
       "      <td>ZANONI</td>\n",
       "      <td>1997-04-02</td>\n",
       "      <td>230405.76</td>\n",
       "      <td>219271.20</td>\n",
       "      <td>8112.80</td>\n",
       "      <td>6840.00</td>\n",
       "      <td>0.0</td>\n",
       "      <td>234224.00</td>\n",
       "      <td>48466.712147</td>\n",
       "      <td>282690.712147</td>\n",
       "      <td>1021-DEPUTY CITY MANAGER</td>\n",
       "      <td>CITY MANAGER'S OFFICE</td>\n",
       "      <td>MALE</td>\n",
       "      <td>WHITE</td>\n",
       "      <td>2B DEPT DIR FT</td>\n",
       "    </tr>\n",
       "    <tr>\n",
       "      <td>3</td>\n",
       "      <td>4</td>\n",
       "      <td>ERIK</td>\n",
       "      <td>J</td>\n",
       "      <td>WALSH</td>\n",
       "      <td>1994-06-06</td>\n",
       "      <td>235014.26</td>\n",
       "      <td>223656.70</td>\n",
       "      <td>0.00</td>\n",
       "      <td>6840.00</td>\n",
       "      <td>0.0</td>\n",
       "      <td>230496.70</td>\n",
       "      <td>49268.050267</td>\n",
       "      <td>279764.750267</td>\n",
       "      <td>1021-DEPUTY CITY MANAGER</td>\n",
       "      <td>CITY MANAGER'S OFFICE</td>\n",
       "      <td>MALE</td>\n",
       "      <td>HISPANIC</td>\n",
       "      <td>2B DEPT DIR FT</td>\n",
       "    </tr>\n",
       "    <tr>\n",
       "      <td>4</td>\n",
       "      <td>5</td>\n",
       "      <td>CHARLES</td>\n",
       "      <td>N.</td>\n",
       "      <td>HOOD</td>\n",
       "      <td>2007-04-16</td>\n",
       "      <td>202562.62</td>\n",
       "      <td>197723.57</td>\n",
       "      <td>12397.05</td>\n",
       "      <td>9480.00</td>\n",
       "      <td>0.0</td>\n",
       "      <td>219600.62</td>\n",
       "      <td>46434.995086</td>\n",
       "      <td>266035.615086</td>\n",
       "      <td>1003-FIRE CHIEF</td>\n",
       "      <td>FIRE</td>\n",
       "      <td>MALE</td>\n",
       "      <td>BLACK</td>\n",
       "      <td>2C F&amp;P CHIEF FT</td>\n",
       "    </tr>\n",
       "  </tbody>\n",
       "</table>\n",
       "</div>"
      ],
      "text/plain": [
       "   REF # FIRST NAME MIDDLE NAME LAST NAME HIRE DATE1  FY16 ANNUAL SALARY2  \\\n",
       "0      1     SHERYL          L.   SCULLEY 2005-11-07            425000.00   \n",
       "1      2   CASANDRA       BROWN     MATEJ 2011-06-13            200906.16   \n",
       "2      3      PETER      DAMIAN    ZANONI 1997-04-02            230405.76   \n",
       "3      4       ERIK           J     WALSH 1994-06-06            235014.26   \n",
       "4      5    CHARLES          N.      HOOD 2007-04-16            202562.62   \n",
       "\n",
       "   FY16 BASE PAY3  FY16 LEAVE PAYOUT4  FY16 OTHER5  FY16 OVERTIME6  \\\n",
       "0       414615.38                0.00     97354.89             0.0   \n",
       "1       196106.64            12751.20     46221.88             0.0   \n",
       "2       219271.20             8112.80      6840.00             0.0   \n",
       "3       223656.70                0.00      6840.00             0.0   \n",
       "4       197723.57            12397.05      9480.00             0.0   \n",
       "\n",
       "   FY16 GROSS EARNINGS7  FY16 ADDITIONAL BENEFITS8  FY16 TOTAL COMPENSATION9  \\\n",
       "0             511970.27               75379.480000             587349.750000   \n",
       "1             255079.72               49355.342435             304435.062435   \n",
       "2             234224.00               48466.712147             282690.712147   \n",
       "3             230496.70               49268.050267             279764.750267   \n",
       "4             219600.62               46434.995086             266035.615086   \n",
       "\n",
       "                  JOB TITLE                   BUSINESS AREA  GENDER  \\\n",
       "0         1022-CITY MANAGER           CITY MANAGER'S OFFICE  FEMALE   \n",
       "1         1013-CVB DIRECTOR  CONVENTION AND VISITORS BUREAU  FEMALE   \n",
       "2  1021-DEPUTY CITY MANAGER           CITY MANAGER'S OFFICE    MALE   \n",
       "3  1021-DEPUTY CITY MANAGER           CITY MANAGER'S OFFICE    MALE   \n",
       "4           1003-FIRE CHIEF                            FIRE    MALE   \n",
       "\n",
       "  ETHNIC ORIGIN10 EMPLOYEE SUBGROUP  \n",
       "0           WHITE    2A CITY MGR FT  \n",
       "1           WHITE    2B DEPT DIR FT  \n",
       "2           WHITE    2B DEPT DIR FT  \n",
       "3        HISPANIC    2B DEPT DIR FT  \n",
       "4           BLACK   2C F&P CHIEF FT  "
      ]
     },
     "execution_count": 3,
     "metadata": {},
     "output_type": "execute_result"
    }
   ],
   "source": [
    "city_data.head()"
   ]
  },
  {
   "cell_type": "markdown",
   "metadata": {},
   "source": [
    "> How does gender and compensation compare?\n",
    "\n",
    "* $H_0$: The average pay for both genders is the same\n",
    "* $H_a$: The average pay for both genders is not the same"
   ]
  },
  {
   "cell_type": "code",
   "execution_count": 33,
   "metadata": {},
   "outputs": [],
   "source": [
    "x1 = city_data[city_data[\"GENDER\"] == \"MALE\"][\"FY16 TOTAL COMPENSATION9\"]\n",
    "x2 = city_data[city_data[\"GENDER\"] == \"FEMALE\"][\"FY16 TOTAL COMPENSATION9\"]"
   ]
  },
  {
   "cell_type": "code",
   "execution_count": 34,
   "metadata": {},
   "outputs": [
    {
     "data": {
      "text/plain": [
       "Ttest_indResult(statistic=41.409566842956735, pvalue=0.0)"
      ]
     },
     "execution_count": 34,
     "metadata": {},
     "output_type": "execute_result"
    }
   ],
   "source": [
    "stats.ttest_ind(x1, x2)"
   ]
  },
  {
   "cell_type": "code",
   "execution_count": 37,
   "metadata": {
    "scrolled": true
   },
   "outputs": [
    {
     "name": "stdout",
     "output_type": "stream",
     "text": [
      "\n",
      "Becasue our p value 0.0 is smaller than our alpha, we reject our null hypothesis, and thus conclude there is a significance in mean \n",
      "compensation between gender\n",
      "\n"
     ]
    }
   ],
   "source": [
    "print(f'''\n",
    "Becasue our p value {p:.3} is smaller than our alpha, we reject our null hypothesis, and thus conclude there is a significance in mean \n",
    "compensation between gender\n",
    "''')"
   ]
  },
  {
   "cell_type": "markdown",
   "metadata": {},
   "source": [
    "> Does one gender have a higher mean than the other? \n",
    "\n",
    "* $H_0$: The mean difference in mean between gender and total population is the same\n",
    "* $H_a$: The mean difference between gender and total population is not the same"
   ]
  },
  {
   "cell_type": "code",
   "execution_count": 41,
   "metadata": {},
   "outputs": [
    {
     "data": {
      "text/plain": [
       "(22.628992838960947, 7.412691481808962e-110)"
      ]
     },
     "execution_count": 41,
     "metadata": {},
     "output_type": "execute_result"
    }
   ],
   "source": [
    "x_male = city_data[city_data[\"GENDER\"] == \"MALE\"][\"FY16 TOTAL COMPENSATION9\"]\n",
    "mu = city_data[\"FY16 TOTAL COMPENSATION9\"].mean()\n",
    "\n",
    "t_stat_male, p_male = stats.ttest_1samp(x_male, mu)\n",
    "\n",
    "t_stat_male, p_male"
   ]
  },
  {
   "cell_type": "code",
   "execution_count": 42,
   "metadata": {},
   "outputs": [
    {
     "data": {
      "text/plain": [
       "(-40.14170823964582, 7.36730972379532e-298)"
      ]
     },
     "execution_count": 42,
     "metadata": {},
     "output_type": "execute_result"
    }
   ],
   "source": [
    "x_female = city_data[city_data[\"GENDER\"] == \"FEMALE\"][\"FY16 TOTAL COMPENSATION9\"]\n",
    "mu = city_data[\"FY16 TOTAL COMPENSATION9\"].mean()\n",
    "\n",
    "t_stat_female, p_female = stats.ttest_1samp(x_female, mu)\n",
    "\n",
    "t_stat_female, p_female"
   ]
  },
  {
   "cell_type": "markdown",
   "metadata": {},
   "source": [
    "Because our t-test value for male is so much higher than female, we know that "
   ]
  },
  {
   "cell_type": "markdown",
   "metadata": {},
   "source": [
    "> Is the number of days an employee worked related to their full compensation? \n",
    "\n",
    "* $H_0$: There is no linear correlation between pay and tenure\n",
    "* $H_a$: There is a linear correlation between pay and tenure"
   ]
  },
  {
   "cell_type": "code",
   "execution_count": 15,
   "metadata": {
    "scrolled": true
   },
   "outputs": [
    {
     "data": {
      "text/html": [
       "<div>\n",
       "<style scoped>\n",
       "    .dataframe tbody tr th:only-of-type {\n",
       "        vertical-align: middle;\n",
       "    }\n",
       "\n",
       "    .dataframe tbody tr th {\n",
       "        vertical-align: top;\n",
       "    }\n",
       "\n",
       "    .dataframe thead th {\n",
       "        text-align: right;\n",
       "    }\n",
       "</style>\n",
       "<table border=\"1\" class=\"dataframe\">\n",
       "  <thead>\n",
       "    <tr style=\"text-align: right;\">\n",
       "      <th></th>\n",
       "      <th>REF #</th>\n",
       "      <th>FIRST NAME</th>\n",
       "      <th>MIDDLE NAME</th>\n",
       "      <th>LAST NAME</th>\n",
       "      <th>HIRE DATE1</th>\n",
       "      <th>FY16 ANNUAL SALARY2</th>\n",
       "      <th>FY16 BASE PAY3</th>\n",
       "      <th>FY16 LEAVE PAYOUT4</th>\n",
       "      <th>FY16 OTHER5</th>\n",
       "      <th>FY16 OVERTIME6</th>\n",
       "      <th>FY16 GROSS EARNINGS7</th>\n",
       "      <th>FY16 ADDITIONAL BENEFITS8</th>\n",
       "      <th>FY16 TOTAL COMPENSATION9</th>\n",
       "      <th>JOB TITLE</th>\n",
       "      <th>BUSINESS AREA</th>\n",
       "      <th>GENDER</th>\n",
       "      <th>ETHNIC ORIGIN10</th>\n",
       "      <th>EMPLOYEE SUBGROUP</th>\n",
       "      <th>length_time</th>\n",
       "    </tr>\n",
       "  </thead>\n",
       "  <tbody>\n",
       "    <tr>\n",
       "      <td>0</td>\n",
       "      <td>1</td>\n",
       "      <td>SHERYL</td>\n",
       "      <td>L.</td>\n",
       "      <td>SCULLEY</td>\n",
       "      <td>2005-11-07</td>\n",
       "      <td>425000.00</td>\n",
       "      <td>414615.38</td>\n",
       "      <td>0.00</td>\n",
       "      <td>97354.89</td>\n",
       "      <td>0.0</td>\n",
       "      <td>511970.27</td>\n",
       "      <td>75379.480000</td>\n",
       "      <td>587349.750000</td>\n",
       "      <td>1022-CITY MANAGER</td>\n",
       "      <td>CITY MANAGER'S OFFICE</td>\n",
       "      <td>FEMALE</td>\n",
       "      <td>WHITE</td>\n",
       "      <td>2A CITY MGR FT</td>\n",
       "      <td>4072 days</td>\n",
       "    </tr>\n",
       "    <tr>\n",
       "      <td>1</td>\n",
       "      <td>2</td>\n",
       "      <td>CASANDRA</td>\n",
       "      <td>BROWN</td>\n",
       "      <td>MATEJ</td>\n",
       "      <td>2011-06-13</td>\n",
       "      <td>200906.16</td>\n",
       "      <td>196106.64</td>\n",
       "      <td>12751.20</td>\n",
       "      <td>46221.88</td>\n",
       "      <td>0.0</td>\n",
       "      <td>255079.72</td>\n",
       "      <td>49355.342435</td>\n",
       "      <td>304435.062435</td>\n",
       "      <td>1013-CVB DIRECTOR</td>\n",
       "      <td>CONVENTION AND VISITORS BUREAU</td>\n",
       "      <td>FEMALE</td>\n",
       "      <td>WHITE</td>\n",
       "      <td>2B DEPT DIR FT</td>\n",
       "      <td>2028 days</td>\n",
       "    </tr>\n",
       "    <tr>\n",
       "      <td>2</td>\n",
       "      <td>3</td>\n",
       "      <td>PETER</td>\n",
       "      <td>DAMIAN</td>\n",
       "      <td>ZANONI</td>\n",
       "      <td>1997-04-02</td>\n",
       "      <td>230405.76</td>\n",
       "      <td>219271.20</td>\n",
       "      <td>8112.80</td>\n",
       "      <td>6840.00</td>\n",
       "      <td>0.0</td>\n",
       "      <td>234224.00</td>\n",
       "      <td>48466.712147</td>\n",
       "      <td>282690.712147</td>\n",
       "      <td>1021-DEPUTY CITY MANAGER</td>\n",
       "      <td>CITY MANAGER'S OFFICE</td>\n",
       "      <td>MALE</td>\n",
       "      <td>WHITE</td>\n",
       "      <td>2B DEPT DIR FT</td>\n",
       "      <td>7213 days</td>\n",
       "    </tr>\n",
       "    <tr>\n",
       "      <td>3</td>\n",
       "      <td>4</td>\n",
       "      <td>ERIK</td>\n",
       "      <td>J</td>\n",
       "      <td>WALSH</td>\n",
       "      <td>1994-06-06</td>\n",
       "      <td>235014.26</td>\n",
       "      <td>223656.70</td>\n",
       "      <td>0.00</td>\n",
       "      <td>6840.00</td>\n",
       "      <td>0.0</td>\n",
       "      <td>230496.70</td>\n",
       "      <td>49268.050267</td>\n",
       "      <td>279764.750267</td>\n",
       "      <td>1021-DEPUTY CITY MANAGER</td>\n",
       "      <td>CITY MANAGER'S OFFICE</td>\n",
       "      <td>MALE</td>\n",
       "      <td>HISPANIC</td>\n",
       "      <td>2B DEPT DIR FT</td>\n",
       "      <td>8244 days</td>\n",
       "    </tr>\n",
       "    <tr>\n",
       "      <td>4</td>\n",
       "      <td>5</td>\n",
       "      <td>CHARLES</td>\n",
       "      <td>N.</td>\n",
       "      <td>HOOD</td>\n",
       "      <td>2007-04-16</td>\n",
       "      <td>202562.62</td>\n",
       "      <td>197723.57</td>\n",
       "      <td>12397.05</td>\n",
       "      <td>9480.00</td>\n",
       "      <td>0.0</td>\n",
       "      <td>219600.62</td>\n",
       "      <td>46434.995086</td>\n",
       "      <td>266035.615086</td>\n",
       "      <td>1003-FIRE CHIEF</td>\n",
       "      <td>FIRE</td>\n",
       "      <td>MALE</td>\n",
       "      <td>BLACK</td>\n",
       "      <td>2C F&amp;P CHIEF FT</td>\n",
       "      <td>3547 days</td>\n",
       "    </tr>\n",
       "  </tbody>\n",
       "</table>\n",
       "</div>"
      ],
      "text/plain": [
       "   REF # FIRST NAME MIDDLE NAME LAST NAME HIRE DATE1  FY16 ANNUAL SALARY2  \\\n",
       "0      1     SHERYL          L.   SCULLEY 2005-11-07            425000.00   \n",
       "1      2   CASANDRA       BROWN     MATEJ 2011-06-13            200906.16   \n",
       "2      3      PETER      DAMIAN    ZANONI 1997-04-02            230405.76   \n",
       "3      4       ERIK           J     WALSH 1994-06-06            235014.26   \n",
       "4      5    CHARLES          N.      HOOD 2007-04-16            202562.62   \n",
       "\n",
       "   FY16 BASE PAY3  FY16 LEAVE PAYOUT4  FY16 OTHER5  FY16 OVERTIME6  \\\n",
       "0       414615.38                0.00     97354.89             0.0   \n",
       "1       196106.64            12751.20     46221.88             0.0   \n",
       "2       219271.20             8112.80      6840.00             0.0   \n",
       "3       223656.70                0.00      6840.00             0.0   \n",
       "4       197723.57            12397.05      9480.00             0.0   \n",
       "\n",
       "   FY16 GROSS EARNINGS7  FY16 ADDITIONAL BENEFITS8  FY16 TOTAL COMPENSATION9  \\\n",
       "0             511970.27               75379.480000             587349.750000   \n",
       "1             255079.72               49355.342435             304435.062435   \n",
       "2             234224.00               48466.712147             282690.712147   \n",
       "3             230496.70               49268.050267             279764.750267   \n",
       "4             219600.62               46434.995086             266035.615086   \n",
       "\n",
       "                  JOB TITLE                   BUSINESS AREA  GENDER  \\\n",
       "0         1022-CITY MANAGER           CITY MANAGER'S OFFICE  FEMALE   \n",
       "1         1013-CVB DIRECTOR  CONVENTION AND VISITORS BUREAU  FEMALE   \n",
       "2  1021-DEPUTY CITY MANAGER           CITY MANAGER'S OFFICE    MALE   \n",
       "3  1021-DEPUTY CITY MANAGER           CITY MANAGER'S OFFICE    MALE   \n",
       "4           1003-FIRE CHIEF                            FIRE    MALE   \n",
       "\n",
       "  ETHNIC ORIGIN10 EMPLOYEE SUBGROUP length_time  \n",
       "0           WHITE    2A CITY MGR FT   4072 days  \n",
       "1           WHITE    2B DEPT DIR FT   2028 days  \n",
       "2           WHITE    2B DEPT DIR FT   7213 days  \n",
       "3        HISPANIC    2B DEPT DIR FT   8244 days  \n",
       "4           BLACK   2C F&P CHIEF FT   3547 days  "
      ]
     },
     "execution_count": 15,
     "metadata": {},
     "output_type": "execute_result"
    }
   ],
   "source": [
    "city_data = city_data.assign(length_time = datetime.strptime(last_date, '%Y-%m-%d') - city_data[\"HIRE DATE1\"])\n",
    "\n",
    "(datetime.strptime(last_date, '%Y-%m-%d') - city_data[\"HIRE DATE1\"][0])/np.timedelta64(1, 'Y')\n",
    "\n",
    "city_data.head()"
   ]
  },
  {
   "cell_type": "code",
   "execution_count": 24,
   "metadata": {},
   "outputs": [
    {
     "name": "stdout",
     "output_type": "stream",
     "text": [
      "corr = 0.5365723672372791\n",
      " p = 0.0000000000\n"
     ]
    }
   ],
   "source": [
    "x = city_data[\"FY16 TOTAL COMPENSATION9\"] \n",
    "y = city_data[\"length_time\"] / pd.to_timedelta(1, unit='D')\n",
    "\n",
    "corr, p = stats.pearsonr(x,y)\n",
    "\n",
    "print(f\"corr = {corr}\")\n",
    "print(f\" p = {p:.10f}\")"
   ]
  },
  {
   "cell_type": "markdown",
   "metadata": {},
   "source": [
    "We can reject our null hypothesis that full compensation and tenure are not linearly correlated. We can also see that there is a positive linear correlation between full compensation and tenure, however, because our correlation is ~0.54, it is not a very strong correlation and there might be other factors influencing this relationship.\n"
   ]
  }
 ],
 "metadata": {
  "kernelspec": {
   "display_name": "Python 3",
   "language": "python",
   "name": "python3"
  },
  "language_info": {
   "codemirror_mode": {
    "name": "ipython",
    "version": 3
   },
   "file_extension": ".py",
   "mimetype": "text/x-python",
   "name": "python",
   "nbconvert_exporter": "python",
   "pygments_lexer": "ipython3",
   "version": "3.7.4"
  }
 },
 "nbformat": 4,
 "nbformat_minor": 2
}
